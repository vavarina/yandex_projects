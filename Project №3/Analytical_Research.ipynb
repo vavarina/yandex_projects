{
 "cells": [
  {
   "cell_type": "markdown",
   "metadata": {
    "id": "u98L9TgH0eMk"
   },
   "source": [
    "# Разработка A/B-тестирования и анализ результатов"
   ]
  },
  {
   "cell_type": "markdown",
   "metadata": {
    "id": "LJBRALHs0eMf"
   },
   "source": [
    "## Описание данных\n",
    "\n",
    "Данные таблиц:\n",
    "\n",
    "- `sessions_project_history.csv` — таблица с историческими данными по сессиям пользователей на период с 2025-08-15 по 2025-09-23. Путь к файлу: `/datasets/sessions_project_history.csv`.\n",
    "\n",
    "- `sessions_project_test_part.csv` — таблица с данными за первый день проведения A/B-теста, то есть за 2025-10-14. Путь к файлу: `/datasets/sessions_project_test_part.csv`.\n",
    "\n",
    "- `sessions_project_test.csv` — таблица с данными за весь период проведения A/B-теста, то есть с 2025-10-14 по 2025-11-02. Путь к файлу: `/datasets/sessions_project_test.csv`.\n",
    "\n",
    "У этих таблиц почти совпадает структура и содержание колонок, различаются лишь периоды наблюдения.\n",
    "\n",
    "Поля таблиц `sessions_project_history.csv`, `sessions_project_test.csv`, `sessions_project_test_part.csv`:\n",
    "\n",
    "- `user_id` — идентификатор пользователя;\n",
    "\n",
    "- `session_id` — идентификатор сессии в приложении;\n",
    "\n",
    "- `session_date` — дата сессии;\n",
    "\n",
    "- `session_start_ts` — дата и время начала сессии;\n",
    "\n",
    "- `install_date` — дата установки приложения;\n",
    "\n",
    "- `session_number` — порядковый номер сессии для конкретного пользователя;\n",
    "\n",
    "- `registration_flag` — является ли пользователь зарегистрированным;\n",
    "\n",
    "- `page_counter` — количество просмотренных страниц во время сессии;\n",
    "\n",
    "- `region` — регион пользователя;\n",
    "\n",
    "- `device` — тип устройства пользователя;\n",
    "\n",
    "- `test_group` — тестовая группа (в таблице с историческими данными этого столбца нет).\n",
    "\n",
    "\n",
    "## Что нужно сделать\n",
    "Рассчитать параметры теста, оценить корректность его проведения и проанализировать результаты эксперимента."
   ]
  },
  {
   "cell_type": "markdown",
   "metadata": {
    "id": "UpOucjID0eMl"
   },
   "source": [
    "### 1. Работа с историческими данными (EDA)"
   ]
  },
  {
   "cell_type": "markdown",
   "metadata": {
    "id": "8iJMtL-30eMl"
   },
   "source": [
    "#### 1.1. Загрузка исторических данных"
   ]
  },
  {
   "cell_type": "code",
   "execution_count": 1,
   "metadata": {
    "id": "6TPR2-1RPboT"
   },
   "outputs": [],
   "source": [
    "import pandas as pd"
   ]
  },
  {
   "cell_type": "code",
   "execution_count": 2,
   "metadata": {},
   "outputs": [],
   "source": [
    "sessions_history = pd.read_csv('https://code.s3.yandex.net/datasets/sessions_project_history.csv')"
   ]
  },
  {
   "cell_type": "code",
   "execution_count": 3,
   "metadata": {},
   "outputs": [
    {
     "data": {
      "text/html": [
       "<div>\n",
       "<style scoped>\n",
       "    .dataframe tbody tr th:only-of-type {\n",
       "        vertical-align: middle;\n",
       "    }\n",
       "\n",
       "    .dataframe tbody tr th {\n",
       "        vertical-align: top;\n",
       "    }\n",
       "\n",
       "    .dataframe thead th {\n",
       "        text-align: right;\n",
       "    }\n",
       "</style>\n",
       "<table border=\"1\" class=\"dataframe\">\n",
       "  <thead>\n",
       "    <tr style=\"text-align: right;\">\n",
       "      <th></th>\n",
       "      <th>user_id</th>\n",
       "      <th>session_id</th>\n",
       "      <th>session_date</th>\n",
       "      <th>session_start_ts</th>\n",
       "      <th>install_date</th>\n",
       "      <th>session_number</th>\n",
       "      <th>registration_flag</th>\n",
       "      <th>page_counter</th>\n",
       "      <th>region</th>\n",
       "      <th>device</th>\n",
       "    </tr>\n",
       "  </thead>\n",
       "  <tbody>\n",
       "    <tr>\n",
       "      <th>0</th>\n",
       "      <td>E302123B7000BFE4</td>\n",
       "      <td>F9AF61A0C2023832</td>\n",
       "      <td>2025-08-15</td>\n",
       "      <td>2025-08-15 17:47:35</td>\n",
       "      <td>2025-08-15</td>\n",
       "      <td>1</td>\n",
       "      <td>0</td>\n",
       "      <td>3</td>\n",
       "      <td>CIS</td>\n",
       "      <td>iPhone</td>\n",
       "    </tr>\n",
       "    <tr>\n",
       "      <th>1</th>\n",
       "      <td>2530F72E221829FB</td>\n",
       "      <td>85003A206CBDAC6F</td>\n",
       "      <td>2025-08-15</td>\n",
       "      <td>2025-08-15 16:42:14</td>\n",
       "      <td>2025-08-15</td>\n",
       "      <td>1</td>\n",
       "      <td>0</td>\n",
       "      <td>4</td>\n",
       "      <td>MENA</td>\n",
       "      <td>Android</td>\n",
       "    </tr>\n",
       "    <tr>\n",
       "      <th>2</th>\n",
       "      <td>876E020A4FC512F5</td>\n",
       "      <td>3677423E49D72DEE</td>\n",
       "      <td>2025-08-15</td>\n",
       "      <td>2025-08-15 12:30:00</td>\n",
       "      <td>2025-08-15</td>\n",
       "      <td>1</td>\n",
       "      <td>0</td>\n",
       "      <td>4</td>\n",
       "      <td>EU</td>\n",
       "      <td>PC</td>\n",
       "    </tr>\n",
       "    <tr>\n",
       "      <th>3</th>\n",
       "      <td>2640B349E1D81584</td>\n",
       "      <td>956B45F5915CA225</td>\n",
       "      <td>2025-08-15</td>\n",
       "      <td>2025-08-15 15:31:31</td>\n",
       "      <td>2025-08-15</td>\n",
       "      <td>1</td>\n",
       "      <td>0</td>\n",
       "      <td>4</td>\n",
       "      <td>CIS</td>\n",
       "      <td>Android</td>\n",
       "    </tr>\n",
       "    <tr>\n",
       "      <th>4</th>\n",
       "      <td>94E1CBFAEF1F5EE9</td>\n",
       "      <td>83BF0DA35F9F1F40</td>\n",
       "      <td>2025-08-15</td>\n",
       "      <td>2025-08-15 21:33:53</td>\n",
       "      <td>2025-08-15</td>\n",
       "      <td>1</td>\n",
       "      <td>0</td>\n",
       "      <td>3</td>\n",
       "      <td>CIS</td>\n",
       "      <td>Android</td>\n",
       "    </tr>\n",
       "  </tbody>\n",
       "</table>\n",
       "</div>"
      ],
      "text/plain": [
       "            user_id        session_id session_date     session_start_ts  \\\n",
       "0  E302123B7000BFE4  F9AF61A0C2023832   2025-08-15  2025-08-15 17:47:35   \n",
       "1  2530F72E221829FB  85003A206CBDAC6F   2025-08-15  2025-08-15 16:42:14   \n",
       "2  876E020A4FC512F5  3677423E49D72DEE   2025-08-15  2025-08-15 12:30:00   \n",
       "3  2640B349E1D81584  956B45F5915CA225   2025-08-15  2025-08-15 15:31:31   \n",
       "4  94E1CBFAEF1F5EE9  83BF0DA35F9F1F40   2025-08-15  2025-08-15 21:33:53   \n",
       "\n",
       "  install_date  session_number  registration_flag  page_counter region  \\\n",
       "0   2025-08-15               1                  0             3    CIS   \n",
       "1   2025-08-15               1                  0             4   MENA   \n",
       "2   2025-08-15               1                  0             4     EU   \n",
       "3   2025-08-15               1                  0             4    CIS   \n",
       "4   2025-08-15               1                  0             3    CIS   \n",
       "\n",
       "    device  \n",
       "0   iPhone  \n",
       "1  Android  \n",
       "2       PC  \n",
       "3  Android  \n",
       "4  Android  "
      ]
     },
     "execution_count": 3,
     "metadata": {},
     "output_type": "execute_result"
    }
   ],
   "source": [
    "sessions_history.head(5)"
   ]
  },
  {
   "cell_type": "code",
   "execution_count": 4,
   "metadata": {},
   "outputs": [
    {
     "name": "stdout",
     "output_type": "stream",
     "text": [
      "<class 'pandas.core.frame.DataFrame'>\n",
      "RangeIndex: 435924 entries, 0 to 435923\n",
      "Data columns (total 10 columns):\n",
      " #   Column             Non-Null Count   Dtype \n",
      "---  ------             --------------   ----- \n",
      " 0   user_id            435924 non-null  object\n",
      " 1   session_id         435924 non-null  object\n",
      " 2   session_date       435924 non-null  object\n",
      " 3   session_start_ts   435924 non-null  object\n",
      " 4   install_date       435924 non-null  object\n",
      " 5   session_number     435924 non-null  int64 \n",
      " 6   registration_flag  435924 non-null  int64 \n",
      " 7   page_counter       435924 non-null  int64 \n",
      " 8   region             435924 non-null  object\n",
      " 9   device             435924 non-null  object\n",
      "dtypes: int64(3), object(7)\n",
      "memory usage: 33.3+ MB\n"
     ]
    }
   ],
   "source": [
    "sessions_history.info()"
   ]
  },
  {
   "cell_type": "markdown",
   "metadata": {},
   "source": [
    "Таблица с историческими данными `sessions_history` содержит информацию о поведении пользователей примерно за 5 недель и состоит из 435 924 строк и 10 колонок. NULL-значения отсутствуют. Типы данных опеределены в основном корректно, проблема только с распознаванием дат. Исправим это."
   ]
  },
  {
   "cell_type": "code",
   "execution_count": 5,
   "metadata": {},
   "outputs": [],
   "source": [
    "sessions_history['session_start_ts'] = pd.to_datetime(sessions_history['session_start_ts'])\n",
    "sessions_history['session_date'] = pd.to_datetime(sessions_history['session_date'], format = '%Y-%m-%d')"
   ]
  },
  {
   "cell_type": "code",
   "execution_count": 6,
   "metadata": {},
   "outputs": [
    {
     "name": "stdout",
     "output_type": "stream",
     "text": [
      "<class 'pandas.core.frame.DataFrame'>\n",
      "RangeIndex: 435924 entries, 0 to 435923\n",
      "Data columns (total 10 columns):\n",
      " #   Column             Non-Null Count   Dtype         \n",
      "---  ------             --------------   -----         \n",
      " 0   user_id            435924 non-null  object        \n",
      " 1   session_id         435924 non-null  object        \n",
      " 2   session_date       435924 non-null  datetime64[ns]\n",
      " 3   session_start_ts   435924 non-null  datetime64[ns]\n",
      " 4   install_date       435924 non-null  object        \n",
      " 5   session_number     435924 non-null  int64         \n",
      " 6   registration_flag  435924 non-null  int64         \n",
      " 7   page_counter       435924 non-null  int64         \n",
      " 8   region             435924 non-null  object        \n",
      " 9   device             435924 non-null  object        \n",
      "dtypes: datetime64[ns](2), int64(3), object(5)\n",
      "memory usage: 33.3+ MB\n"
     ]
    }
   ],
   "source": [
    "sessions_history.info()"
   ]
  },
  {
   "cell_type": "markdown",
   "metadata": {
    "id": "qTDoiODz0eMo"
   },
   "source": [
    "#### 1.2. Знакомство с данными\n"
   ]
  },
  {
   "cell_type": "markdown",
   "metadata": {},
   "source": [
    "Выведем топ пользователей по числу сессий."
   ]
  },
  {
   "cell_type": "code",
   "execution_count": 7,
   "metadata": {
    "id": "PWZO9vTIPbPN"
   },
   "outputs": [
    {
     "data": {
      "text/plain": [
       "user_id\n",
       "10E0DEFC1ABDBBE0    10\n",
       "6A73CB5566BB494D    10\n",
       "8A60431A825D035B     9\n",
       "D11541BAC141FB94     9\n",
       "5BCFE7C4DCC148E9     9\n",
       "                    ..\n",
       "1DF13BB1953B3497     1\n",
       "628502A3CE7E0A3C     1\n",
       "1DEEF40DEFBD0C65     1\n",
       "AC08479B7472C628     1\n",
       "8A0882B6715D9EE5     1\n",
       "Name: session_id, Length: 134039, dtype: int64"
      ]
     },
     "execution_count": 7,
     "metadata": {},
     "output_type": "execute_result"
    }
   ],
   "source": [
    "sessions_history.groupby('user_id')['session_id'].nunique().sort_values(ascending=False)"
   ]
  },
  {
   "cell_type": "code",
   "execution_count": 8,
   "metadata": {},
   "outputs": [
    {
     "data": {
      "text/html": [
       "<div>\n",
       "<style scoped>\n",
       "    .dataframe tbody tr th:only-of-type {\n",
       "        vertical-align: middle;\n",
       "    }\n",
       "\n",
       "    .dataframe tbody tr th {\n",
       "        vertical-align: top;\n",
       "    }\n",
       "\n",
       "    .dataframe thead th {\n",
       "        text-align: right;\n",
       "    }\n",
       "</style>\n",
       "<table border=\"1\" class=\"dataframe\">\n",
       "  <thead>\n",
       "    <tr style=\"text-align: right;\">\n",
       "      <th></th>\n",
       "      <th>user_id</th>\n",
       "      <th>session_id</th>\n",
       "      <th>session_date</th>\n",
       "      <th>session_start_ts</th>\n",
       "      <th>install_date</th>\n",
       "      <th>session_number</th>\n",
       "      <th>registration_flag</th>\n",
       "      <th>page_counter</th>\n",
       "      <th>region</th>\n",
       "      <th>device</th>\n",
       "    </tr>\n",
       "  </thead>\n",
       "  <tbody>\n",
       "    <tr>\n",
       "      <th>115558</th>\n",
       "      <td>10E0DEFC1ABDBBE0</td>\n",
       "      <td>B8F0423BBFFCF5DC</td>\n",
       "      <td>2025-08-14</td>\n",
       "      <td>2025-08-14 13:57:39</td>\n",
       "      <td>2025-08-14</td>\n",
       "      <td>1</td>\n",
       "      <td>0</td>\n",
       "      <td>4</td>\n",
       "      <td>CIS</td>\n",
       "      <td>Android</td>\n",
       "    </tr>\n",
       "    <tr>\n",
       "      <th>191751</th>\n",
       "      <td>10E0DEFC1ABDBBE0</td>\n",
       "      <td>87CA2FA549473837</td>\n",
       "      <td>2025-08-15</td>\n",
       "      <td>2025-08-15 16:42:10</td>\n",
       "      <td>2025-08-14</td>\n",
       "      <td>2</td>\n",
       "      <td>0</td>\n",
       "      <td>3</td>\n",
       "      <td>CIS</td>\n",
       "      <td>Android</td>\n",
       "    </tr>\n",
       "    <tr>\n",
       "      <th>239370</th>\n",
       "      <td>10E0DEFC1ABDBBE0</td>\n",
       "      <td>4ADD8011DCDCE318</td>\n",
       "      <td>2025-08-16</td>\n",
       "      <td>2025-08-16 19:53:21</td>\n",
       "      <td>2025-08-14</td>\n",
       "      <td>3</td>\n",
       "      <td>0</td>\n",
       "      <td>3</td>\n",
       "      <td>CIS</td>\n",
       "      <td>Android</td>\n",
       "    </tr>\n",
       "    <tr>\n",
       "      <th>274629</th>\n",
       "      <td>10E0DEFC1ABDBBE0</td>\n",
       "      <td>DF0FD0E09BF1F3D7</td>\n",
       "      <td>2025-08-17</td>\n",
       "      <td>2025-08-17 15:03:43</td>\n",
       "      <td>2025-08-14</td>\n",
       "      <td>4</td>\n",
       "      <td>0</td>\n",
       "      <td>1</td>\n",
       "      <td>CIS</td>\n",
       "      <td>Android</td>\n",
       "    </tr>\n",
       "    <tr>\n",
       "      <th>302501</th>\n",
       "      <td>10E0DEFC1ABDBBE0</td>\n",
       "      <td>3C221774B4DE6885</td>\n",
       "      <td>2025-08-18</td>\n",
       "      <td>2025-08-18 17:29:14</td>\n",
       "      <td>2025-08-14</td>\n",
       "      <td>5</td>\n",
       "      <td>0</td>\n",
       "      <td>4</td>\n",
       "      <td>CIS</td>\n",
       "      <td>Android</td>\n",
       "    </tr>\n",
       "    <tr>\n",
       "      <th>325557</th>\n",
       "      <td>10E0DEFC1ABDBBE0</td>\n",
       "      <td>031BD7A67048105B</td>\n",
       "      <td>2025-08-19</td>\n",
       "      <td>2025-08-19 13:23:55</td>\n",
       "      <td>2025-08-14</td>\n",
       "      <td>6</td>\n",
       "      <td>0</td>\n",
       "      <td>2</td>\n",
       "      <td>CIS</td>\n",
       "      <td>Android</td>\n",
       "    </tr>\n",
       "    <tr>\n",
       "      <th>345336</th>\n",
       "      <td>10E0DEFC1ABDBBE0</td>\n",
       "      <td>FF4315CF4AD4B100</td>\n",
       "      <td>2025-08-20</td>\n",
       "      <td>2025-08-20 19:31:54</td>\n",
       "      <td>2025-08-14</td>\n",
       "      <td>7</td>\n",
       "      <td>0</td>\n",
       "      <td>2</td>\n",
       "      <td>CIS</td>\n",
       "      <td>Android</td>\n",
       "    </tr>\n",
       "    <tr>\n",
       "      <th>377532</th>\n",
       "      <td>10E0DEFC1ABDBBE0</td>\n",
       "      <td>4045FEA0747203B4</td>\n",
       "      <td>2025-08-22</td>\n",
       "      <td>2025-08-22 17:54:13</td>\n",
       "      <td>2025-08-14</td>\n",
       "      <td>8</td>\n",
       "      <td>0</td>\n",
       "      <td>2</td>\n",
       "      <td>CIS</td>\n",
       "      <td>Android</td>\n",
       "    </tr>\n",
       "    <tr>\n",
       "      <th>403538</th>\n",
       "      <td>10E0DEFC1ABDBBE0</td>\n",
       "      <td>344B086C421C7F37</td>\n",
       "      <td>2025-08-24</td>\n",
       "      <td>2025-08-24 14:46:13</td>\n",
       "      <td>2025-08-14</td>\n",
       "      <td>9</td>\n",
       "      <td>0</td>\n",
       "      <td>2</td>\n",
       "      <td>CIS</td>\n",
       "      <td>Android</td>\n",
       "    </tr>\n",
       "    <tr>\n",
       "      <th>414743</th>\n",
       "      <td>10E0DEFC1ABDBBE0</td>\n",
       "      <td>054F20BA371E4C9D</td>\n",
       "      <td>2025-08-25</td>\n",
       "      <td>2025-08-25 18:36:41</td>\n",
       "      <td>2025-08-14</td>\n",
       "      <td>10</td>\n",
       "      <td>0</td>\n",
       "      <td>3</td>\n",
       "      <td>CIS</td>\n",
       "      <td>Android</td>\n",
       "    </tr>\n",
       "  </tbody>\n",
       "</table>\n",
       "</div>"
      ],
      "text/plain": [
       "                 user_id        session_id session_date    session_start_ts  \\\n",
       "115558  10E0DEFC1ABDBBE0  B8F0423BBFFCF5DC   2025-08-14 2025-08-14 13:57:39   \n",
       "191751  10E0DEFC1ABDBBE0  87CA2FA549473837   2025-08-15 2025-08-15 16:42:10   \n",
       "239370  10E0DEFC1ABDBBE0  4ADD8011DCDCE318   2025-08-16 2025-08-16 19:53:21   \n",
       "274629  10E0DEFC1ABDBBE0  DF0FD0E09BF1F3D7   2025-08-17 2025-08-17 15:03:43   \n",
       "302501  10E0DEFC1ABDBBE0  3C221774B4DE6885   2025-08-18 2025-08-18 17:29:14   \n",
       "325557  10E0DEFC1ABDBBE0  031BD7A67048105B   2025-08-19 2025-08-19 13:23:55   \n",
       "345336  10E0DEFC1ABDBBE0  FF4315CF4AD4B100   2025-08-20 2025-08-20 19:31:54   \n",
       "377532  10E0DEFC1ABDBBE0  4045FEA0747203B4   2025-08-22 2025-08-22 17:54:13   \n",
       "403538  10E0DEFC1ABDBBE0  344B086C421C7F37   2025-08-24 2025-08-24 14:46:13   \n",
       "414743  10E0DEFC1ABDBBE0  054F20BA371E4C9D   2025-08-25 2025-08-25 18:36:41   \n",
       "\n",
       "       install_date  session_number  registration_flag  page_counter region  \\\n",
       "115558   2025-08-14               1                  0             4    CIS   \n",
       "191751   2025-08-14               2                  0             3    CIS   \n",
       "239370   2025-08-14               3                  0             3    CIS   \n",
       "274629   2025-08-14               4                  0             1    CIS   \n",
       "302501   2025-08-14               5                  0             4    CIS   \n",
       "325557   2025-08-14               6                  0             2    CIS   \n",
       "345336   2025-08-14               7                  0             2    CIS   \n",
       "377532   2025-08-14               8                  0             2    CIS   \n",
       "403538   2025-08-14               9                  0             2    CIS   \n",
       "414743   2025-08-14              10                  0             3    CIS   \n",
       "\n",
       "         device  \n",
       "115558  Android  \n",
       "191751  Android  \n",
       "239370  Android  \n",
       "274629  Android  \n",
       "302501  Android  \n",
       "325557  Android  \n",
       "345336  Android  \n",
       "377532  Android  \n",
       "403538  Android  \n",
       "414743  Android  "
      ]
     },
     "execution_count": 8,
     "metadata": {},
     "output_type": "execute_result"
    }
   ],
   "source": [
    "sessions_history.loc[sessions_history['user_id'] == sessions_history.groupby('user_id')['session_id'].count().idxmax()]"
   ]
  },
  {
   "cell_type": "markdown",
   "metadata": {},
   "source": [
    "Как видно по выведенным сессиям одного пользователя, в таблице содержатся данные о:   \n",
    " - всех уникальных сессиях\n",
    " - дате и времени сессий\n",
    " - порядковом номере сессии\n",
    " - числе просмотренных страниц\n",
    " - регионе, где была проведена сессия\n",
    " - устройстве, с которого была проведена сессия\n",
    "    "
   ]
  },
  {
   "cell_type": "markdown",
   "metadata": {
    "id": "CmcGpJTP0eMq"
   },
   "source": [
    "#### 1.3. Анализ числа регистраций"
   ]
  },
  {
   "cell_type": "code",
   "execution_count": 9,
   "metadata": {
    "id": "tN_6Ml3EPatS"
   },
   "outputs": [],
   "source": [
    "# Группируем данные\n",
    "\n",
    "sh_gr_unique = sessions_history.groupby('session_date')['user_id'].nunique().reset_index()\n",
    "sh_gr_reg = sessions_history.loc[sessions_history['registration_flag'] == 1].groupby('session_date')['user_id'].nunique().reset_index()"
   ]
  },
  {
   "cell_type": "code",
   "execution_count": 10,
   "metadata": {},
   "outputs": [
    {
     "data": {
      "image/png": "[encoded data removed]",
      "text/plain": [
       "<Figure size 720x360 with 1 Axes>"
      ]
     },
     "metadata": {
      "needs_background": "light"
     },
     "output_type": "display_data"
    }
   ],
   "source": [
    "import matplotlib.pyplot as plt\n",
    "\n",
    "x = sh_gr_unique.session_date.unique()\n",
    "y_u = sh_gr_unique['user_id']\n",
    "y_r = sh_gr_reg['user_id']\n",
    "\n",
    "plt.figure(figsize=(10, 5))\n",
    "plt.plot(x, y_u, label ='Unique users')\n",
    "plt.plot(x, y_r, label ='Registered users')\n",
    "\n",
    "plt.xticks(rotation=45)\n",
    "plt.grid()\n",
    "\n",
    "plt.xlabel(\"Дата\")\n",
    "plt.ylabel(\"Количество пользователей\")\n",
    "plt.legend()\n",
    "plt.title('Сравнение динамик уникальных и зарегистрированных пользователей по дням')\n",
    "plt.show()"
   ]
  },
  {
   "cell_type": "code",
   "execution_count": 11,
   "metadata": {},
   "outputs": [],
   "source": [
    "# Вычисляем долю зарегистрированных пользователей по дням\n",
    "x = sh_gr_unique.session_date.unique()\n",
    "y_prop = y_r/y_u"
   ]
  },
  {
   "cell_type": "code",
   "execution_count": 12,
   "metadata": {},
   "outputs": [
    {
     "data": {
      "image/png": "[encoded data removed]",
      "text/plain": [
       "<Figure size 720x360 with 1 Axes>"
      ]
     },
     "metadata": {
      "needs_background": "light"
     },
     "output_type": "display_data"
    }
   ],
   "source": [
    "plt.figure(figsize=(10, 5))\n",
    "plt.plot(x, y_prop, label ='Registered users share')\n",
    "\n",
    "plt.xticks(rotation=45)\n",
    "plt.grid()\n",
    "\n",
    "plt.xlabel(\"Дата\")\n",
    "plt.ylabel(\"Доля пользователей с регистрацией\")\n",
    "plt.legend()\n",
    "plt.title('Динамика доли зарегистрированных ко всем пользователям по дням')\n",
    "plt.show()"
   ]
  },
  {
   "cell_type": "markdown",
   "metadata": {},
   "source": [
    "По построенным графикам с динамикой абсолютного числа уникальных пользователей по дням и когортам (все/зарегистрированные), а также с динамикой доли зарегистрированных пользователей по дням видно, что:\n",
    "    \n",
    "  - Число зарегистрированных пользователей сравнительно мало относительно всех пользователей\n",
    "  - В начале августа число уникальных и зарегистрированных пользователей растет\n",
    "  - Далее до 10-х чисел сентября число уникальных зарегистрированных пользователей остается довольно стабильное, в то время как у числа уникальных пользователей наблюдается флуктуации - оно колеблется от ~1100 до 1750 пользователей в день. Локальный максимум достигается 22 августа. Верноятно, это какая-то сезонная компонента\n",
    "  - Примерно с 10-х чисел сентября наблюдается довольно резкое снижение числа уникальных пользователей приложения, для зарегистрированных пользователей это снижение выражено менее ярко\n",
    "  - Снижение числа пользователей из предыдущего пункта сказывается на динамике доли зарегистрированных пользователей. Если в начале исторического периода оно было около 4%, далее колебалось от 6 до 8%, то в период снижения числа уникальных пользователей достигло 11%"
   ]
  },
  {
   "cell_type": "markdown",
   "metadata": {
    "id": "UR7D7RhF0eMr"
   },
   "source": [
    "#### 1.4. Анализ числа просмотренных страниц"
   ]
  },
  {
   "cell_type": "code",
   "execution_count": 13,
   "metadata": {
    "id": "cb6hPlVzPaSf"
   },
   "outputs": [
    {
     "name": "stdout",
     "output_type": "stream",
     "text": [
      "   page_counter  session_id\n",
      "0             1       29160\n",
      "1             2      105536\n",
      "2             3      166690\n",
      "3             4      105569\n",
      "4             5       26288\n",
      "5             6        2589\n",
      "6             7          92\n"
     ]
    }
   ],
   "source": [
    "sh_gr_pages = sessions_history.groupby('page_counter')['session_id'].nunique().reset_index()\n",
    "print(sh_gr_pages)"
   ]
  },
  {
   "cell_type": "code",
   "execution_count": 14,
   "metadata": {},
   "outputs": [
    {
     "data": {
      "text/plain": [
       "<AxesSubplot:title={'center':'Сколько страниц просматривают за сессию'}, xlabel='Число страниц', ylabel='Количество сессий'>"
      ]
     },
     "execution_count": 14,
     "metadata": {},
     "output_type": "execute_result"
    },
    {
     "data": {
      "image/png": "[encoded data removed]",
      "text/plain": [
       "<Figure size 432x288 with 1 Axes>"
      ]
     },
     "metadata": {
      "needs_background": "light"
     },
     "output_type": "display_data"
    }
   ],
   "source": [
    "sh_gr_pages.plot(kind = 'bar',\n",
    "                 title = 'Сколько страниц просматривают за сессию',\n",
    "                 legend = False,\n",
    "                 xlabel = 'Число страниц',\n",
    "                 ylabel = 'Количество сессий'\n",
    ")"
   ]
  },
  {
   "cell_type": "markdown",
   "metadata": {
    "id": "xDltSpVP0eMr"
   },
   "source": [
    "#### 1.5. Доля пользователей, просмотревших более четырёх страниц"
   ]
  },
  {
   "cell_type": "code",
   "execution_count": 15,
   "metadata": {
    "id": "iygaPfixPYMW"
   },
   "outputs": [
    {
     "data": {
      "text/html": [
       "<div>\n",
       "<style scoped>\n",
       "    .dataframe tbody tr th:only-of-type {\n",
       "        vertical-align: middle;\n",
       "    }\n",
       "\n",
       "    .dataframe tbody tr th {\n",
       "        vertical-align: top;\n",
       "    }\n",
       "\n",
       "    .dataframe thead th {\n",
       "        text-align: right;\n",
       "    }\n",
       "</style>\n",
       "<table border=\"1\" class=\"dataframe\">\n",
       "  <thead>\n",
       "    <tr style=\"text-align: right;\">\n",
       "      <th></th>\n",
       "      <th>user_id</th>\n",
       "      <th>session_id</th>\n",
       "      <th>session_date</th>\n",
       "      <th>session_start_ts</th>\n",
       "      <th>install_date</th>\n",
       "      <th>session_number</th>\n",
       "      <th>registration_flag</th>\n",
       "      <th>page_counter</th>\n",
       "      <th>region</th>\n",
       "      <th>device</th>\n",
       "      <th>good_session</th>\n",
       "    </tr>\n",
       "  </thead>\n",
       "  <tbody>\n",
       "    <tr>\n",
       "      <th>0</th>\n",
       "      <td>E302123B7000BFE4</td>\n",
       "      <td>F9AF61A0C2023832</td>\n",
       "      <td>2025-08-15</td>\n",
       "      <td>2025-08-15 17:47:35</td>\n",
       "      <td>2025-08-15</td>\n",
       "      <td>1</td>\n",
       "      <td>0</td>\n",
       "      <td>3</td>\n",
       "      <td>CIS</td>\n",
       "      <td>iPhone</td>\n",
       "      <td>0</td>\n",
       "    </tr>\n",
       "    <tr>\n",
       "      <th>1</th>\n",
       "      <td>2530F72E221829FB</td>\n",
       "      <td>85003A206CBDAC6F</td>\n",
       "      <td>2025-08-15</td>\n",
       "      <td>2025-08-15 16:42:14</td>\n",
       "      <td>2025-08-15</td>\n",
       "      <td>1</td>\n",
       "      <td>0</td>\n",
       "      <td>4</td>\n",
       "      <td>MENA</td>\n",
       "      <td>Android</td>\n",
       "      <td>1</td>\n",
       "    </tr>\n",
       "    <tr>\n",
       "      <th>2</th>\n",
       "      <td>876E020A4FC512F5</td>\n",
       "      <td>3677423E49D72DEE</td>\n",
       "      <td>2025-08-15</td>\n",
       "      <td>2025-08-15 12:30:00</td>\n",
       "      <td>2025-08-15</td>\n",
       "      <td>1</td>\n",
       "      <td>0</td>\n",
       "      <td>4</td>\n",
       "      <td>EU</td>\n",
       "      <td>PC</td>\n",
       "      <td>1</td>\n",
       "    </tr>\n",
       "    <tr>\n",
       "      <th>3</th>\n",
       "      <td>2640B349E1D81584</td>\n",
       "      <td>956B45F5915CA225</td>\n",
       "      <td>2025-08-15</td>\n",
       "      <td>2025-08-15 15:31:31</td>\n",
       "      <td>2025-08-15</td>\n",
       "      <td>1</td>\n",
       "      <td>0</td>\n",
       "      <td>4</td>\n",
       "      <td>CIS</td>\n",
       "      <td>Android</td>\n",
       "      <td>1</td>\n",
       "    </tr>\n",
       "    <tr>\n",
       "      <th>4</th>\n",
       "      <td>94E1CBFAEF1F5EE9</td>\n",
       "      <td>83BF0DA35F9F1F40</td>\n",
       "      <td>2025-08-15</td>\n",
       "      <td>2025-08-15 21:33:53</td>\n",
       "      <td>2025-08-15</td>\n",
       "      <td>1</td>\n",
       "      <td>0</td>\n",
       "      <td>3</td>\n",
       "      <td>CIS</td>\n",
       "      <td>Android</td>\n",
       "      <td>0</td>\n",
       "    </tr>\n",
       "  </tbody>\n",
       "</table>\n",
       "</div>"
      ],
      "text/plain": [
       "            user_id        session_id session_date    session_start_ts  \\\n",
       "0  E302123B7000BFE4  F9AF61A0C2023832   2025-08-15 2025-08-15 17:47:35   \n",
       "1  2530F72E221829FB  85003A206CBDAC6F   2025-08-15 2025-08-15 16:42:14   \n",
       "2  876E020A4FC512F5  3677423E49D72DEE   2025-08-15 2025-08-15 12:30:00   \n",
       "3  2640B349E1D81584  956B45F5915CA225   2025-08-15 2025-08-15 15:31:31   \n",
       "4  94E1CBFAEF1F5EE9  83BF0DA35F9F1F40   2025-08-15 2025-08-15 21:33:53   \n",
       "\n",
       "  install_date  session_number  registration_flag  page_counter region  \\\n",
       "0   2025-08-15               1                  0             3    CIS   \n",
       "1   2025-08-15               1                  0             4   MENA   \n",
       "2   2025-08-15               1                  0             4     EU   \n",
       "3   2025-08-15               1                  0             4    CIS   \n",
       "4   2025-08-15               1                  0             3    CIS   \n",
       "\n",
       "    device  good_session  \n",
       "0   iPhone             0  \n",
       "1  Android             1  \n",
       "2       PC             1  \n",
       "3  Android             1  \n",
       "4  Android             0  "
      ]
     },
     "execution_count": 15,
     "metadata": {},
     "output_type": "execute_result"
    }
   ],
   "source": [
    "# Добавляем столбец good_session\n",
    "sessions_history['good_session'] = sessions_history['page_counter'] >= 4\n",
    "sessions_history['good_session'] = sessions_history['good_session'].astype('int8')\n",
    "sessions_history.head()"
   ]
  },
  {
   "cell_type": "code",
   "execution_count": 16,
   "metadata": {},
   "outputs": [
    {
     "data": {
      "text/plain": [
       "<AxesSubplot:title={'center':'Динамика доли успешных сессий по дням'}, xlabel='Дата', ylabel='Доля успешных сессий'>"
      ]
     },
     "execution_count": 16,
     "metadata": {},
     "output_type": "execute_result"
    },
    {
     "data": {
      "image/png": "[encoded data removed]",
      "text/plain": [
       "<Figure size 720x360 with 1 Axes>"
      ]
     },
     "metadata": {
      "needs_background": "light"
     },
     "output_type": "display_data"
    }
   ],
   "source": [
    "plt.figure(figsize=(10, 5))\n",
    "\n",
    "succ_pages = sessions_history.groupby('session_date')['good_session'].mean()\n",
    "succ_pages.plot(kind = 'line',\n",
    "                 title = 'Динамика доли успешных сессий по дням',\n",
    "                 legend = False,\n",
    "                 xlabel = 'Дата',\n",
    "                 ylabel = 'Доля успешных сессий'                                  \n",
    ")"
   ]
  },
  {
   "cell_type": "markdown",
   "metadata": {
    "id": "21JcG77Y0eMt"
   },
   "source": [
    "### 2. Подготовка к тесту"
   ]
  },
  {
   "cell_type": "markdown",
   "metadata": {
    "id": "uzaeln270eMt"
   },
   "source": [
    "#### 2.1. Расчёт размера выборки"
   ]
  },
  {
   "cell_type": "code",
   "execution_count": 17,
   "metadata": {
    "id": "zSxJyPGPNdaI"
   },
   "outputs": [
    {
     "name": "stdout",
     "output_type": "stream",
     "text": [
      "Необходимый размер выборки для каждой группы: 17441\n"
     ]
    }
   ],
   "source": [
    "from statsmodels.stats.power import NormalIndPower\n",
    "\n",
    "# Задаём параметры\n",
    "alpha = 0.05  # Уровень значимости\n",
    "beta = 0.2  # Ошибка второго рода, часто 1 - мощность\n",
    "power = 0.8  # Мощность теста\n",
    "mde = 0.03  # Минимальный детектируемый эффект\n",
    "\n",
    "# Инициализируем класс NormalIndPower\n",
    "power_analysis = NormalIndPower()\n",
    "\n",
    "# Рассчитываем размер выборки\n",
    "sample_size = power_analysis.solve_power(\n",
    "    effect_size = mde,\n",
    "    power = power,\n",
    "    alpha = alpha,\n",
    "    ratio = 1 # Равномерное распределение выборок\n",
    ")\n",
    "\n",
    "print(f\"Необходимый размер выборки для каждой группы: {int(sample_size)}\")"
   ]
  },
  {
   "cell_type": "markdown",
   "metadata": {
    "id": "qLEv4RoV0eMu"
   },
   "source": [
    "#### 2.1. Расчёт длительности A/B-теста"
   ]
  },
  {
   "cell_type": "code",
   "execution_count": 18,
   "metadata": {
    "id": "KZDRbryDOGHa"
   },
   "outputs": [
    {
     "name": "stdout",
     "output_type": "stream",
     "text": [
      "Рассчитанная длительность A/B-теста при текущем уровене трафика в 9907.363636363636 пользователей в день составит 4 дней\n"
     ]
    }
   ],
   "source": [
    "from math import ceil\n",
    "\n",
    "# Среднее количество пользователей приложения в день по историческим данным\n",
    "avg_daily_users = sessions_history.groupby('session_date')['user_id'].nunique().mean()\n",
    "\n",
    "# Рассчитываем длительность теста в днях как отношение размера выборки к среднему числу пользователей\n",
    "test_duration = ceil(sample_size*2/avg_daily_users)\n",
    "\n",
    "print(f\"Рассчитанная длительность A/B-теста при текущем уровене трафика в {avg_daily_users} пользователей в день составит {test_duration} дней\")"
   ]
  },
  {
   "cell_type": "markdown",
   "metadata": {
    "id": "ZuvtAdha0eMv"
   },
   "source": [
    "### 3. Мониторинг А/В-теста"
   ]
  },
  {
   "cell_type": "markdown",
   "metadata": {
    "id": "jq5sE3Ya0eMv"
   },
   "source": [
    "#### 3.1. Проверка распределения пользователей"
   ]
  },
  {
   "cell_type": "code",
   "execution_count": 19,
   "metadata": {
    "id": "G1bqIzDJOUiz"
   },
   "outputs": [],
   "source": [
    "sessions_test_part = pd.read_csv('https://code.s3.yandex.net/datasets/sessions_project_test_part.csv')"
   ]
  },
  {
   "cell_type": "code",
   "execution_count": 20,
   "metadata": {},
   "outputs": [
    {
     "data": {
      "text/html": [
       "<div>\n",
       "<style scoped>\n",
       "    .dataframe tbody tr th:only-of-type {\n",
       "        vertical-align: middle;\n",
       "    }\n",
       "\n",
       "    .dataframe tbody tr th {\n",
       "        vertical-align: top;\n",
       "    }\n",
       "\n",
       "    .dataframe thead th {\n",
       "        text-align: right;\n",
       "    }\n",
       "</style>\n",
       "<table border=\"1\" class=\"dataframe\">\n",
       "  <thead>\n",
       "    <tr style=\"text-align: right;\">\n",
       "      <th></th>\n",
       "      <th>user_id</th>\n",
       "      <th>session_id</th>\n",
       "      <th>session_date</th>\n",
       "      <th>session_start_ts</th>\n",
       "      <th>install_date</th>\n",
       "      <th>session_number</th>\n",
       "      <th>registration_flag</th>\n",
       "      <th>page_counter</th>\n",
       "      <th>region</th>\n",
       "      <th>device</th>\n",
       "      <th>test_group</th>\n",
       "    </tr>\n",
       "  </thead>\n",
       "  <tbody>\n",
       "    <tr>\n",
       "      <th>0</th>\n",
       "      <td>3404844B53442747</td>\n",
       "      <td>B4901323BD537E45</td>\n",
       "      <td>2025-10-14</td>\n",
       "      <td>2025-10-14 19:28:49</td>\n",
       "      <td>2025-10-14</td>\n",
       "      <td>1</td>\n",
       "      <td>0</td>\n",
       "      <td>3</td>\n",
       "      <td>CIS</td>\n",
       "      <td>Android</td>\n",
       "      <td>B</td>\n",
       "    </tr>\n",
       "    <tr>\n",
       "      <th>1</th>\n",
       "      <td>3A2BF4D364E62D89</td>\n",
       "      <td>216FC619308F8788</td>\n",
       "      <td>2025-10-14</td>\n",
       "      <td>2025-10-14 21:11:04</td>\n",
       "      <td>2025-10-14</td>\n",
       "      <td>1</td>\n",
       "      <td>0</td>\n",
       "      <td>3</td>\n",
       "      <td>MENA</td>\n",
       "      <td>iPhone</td>\n",
       "      <td>A</td>\n",
       "    </tr>\n",
       "    <tr>\n",
       "      <th>2</th>\n",
       "      <td>79CDAE11E32B1597</td>\n",
       "      <td>EDFCE4AC1A504074</td>\n",
       "      <td>2025-10-14</td>\n",
       "      <td>2025-10-14 21:44:03</td>\n",
       "      <td>2025-10-14</td>\n",
       "      <td>1</td>\n",
       "      <td>0</td>\n",
       "      <td>3</td>\n",
       "      <td>CIS</td>\n",
       "      <td>iPhone</td>\n",
       "      <td>A</td>\n",
       "    </tr>\n",
       "    <tr>\n",
       "      <th>3</th>\n",
       "      <td>D6AF8D78297A931F</td>\n",
       "      <td>CF0AC0EEDE92C690</td>\n",
       "      <td>2025-10-14</td>\n",
       "      <td>2025-10-14 19:07:55</td>\n",
       "      <td>2025-10-14</td>\n",
       "      <td>1</td>\n",
       "      <td>0</td>\n",
       "      <td>4</td>\n",
       "      <td>CIS</td>\n",
       "      <td>PC</td>\n",
       "      <td>A</td>\n",
       "    </tr>\n",
       "    <tr>\n",
       "      <th>4</th>\n",
       "      <td>37E0CE723AE568E0</td>\n",
       "      <td>2E6ED45E8C86C4E9</td>\n",
       "      <td>2025-10-14</td>\n",
       "      <td>2025-10-14 15:39:44</td>\n",
       "      <td>2025-10-14</td>\n",
       "      <td>1</td>\n",
       "      <td>0</td>\n",
       "      <td>3</td>\n",
       "      <td>CIS</td>\n",
       "      <td>Mac</td>\n",
       "      <td>B</td>\n",
       "    </tr>\n",
       "  </tbody>\n",
       "</table>\n",
       "</div>"
      ],
      "text/plain": [
       "            user_id        session_id session_date     session_start_ts  \\\n",
       "0  3404844B53442747  B4901323BD537E45   2025-10-14  2025-10-14 19:28:49   \n",
       "1  3A2BF4D364E62D89  216FC619308F8788   2025-10-14  2025-10-14 21:11:04   \n",
       "2  79CDAE11E32B1597  EDFCE4AC1A504074   2025-10-14  2025-10-14 21:44:03   \n",
       "3  D6AF8D78297A931F  CF0AC0EEDE92C690   2025-10-14  2025-10-14 19:07:55   \n",
       "4  37E0CE723AE568E0  2E6ED45E8C86C4E9   2025-10-14  2025-10-14 15:39:44   \n",
       "\n",
       "  install_date  session_number  registration_flag  page_counter region  \\\n",
       "0   2025-10-14               1                  0             3    CIS   \n",
       "1   2025-10-14               1                  0             3   MENA   \n",
       "2   2025-10-14               1                  0             3    CIS   \n",
       "3   2025-10-14               1                  0             4    CIS   \n",
       "4   2025-10-14               1                  0             3    CIS   \n",
       "\n",
       "    device test_group  \n",
       "0  Android          B  \n",
       "1   iPhone          A  \n",
       "2   iPhone          A  \n",
       "3       PC          A  \n",
       "4      Mac          B  "
      ]
     },
     "execution_count": 20,
     "metadata": {},
     "output_type": "execute_result"
    }
   ],
   "source": [
    "sessions_test_part.head()"
   ]
  },
  {
   "cell_type": "code",
   "execution_count": 21,
   "metadata": {},
   "outputs": [
    {
     "name": "stdout",
     "output_type": "stream",
     "text": [
      "<class 'pandas.core.frame.DataFrame'>\n",
      "RangeIndex: 3130 entries, 0 to 3129\n",
      "Data columns (total 11 columns):\n",
      " #   Column             Non-Null Count  Dtype \n",
      "---  ------             --------------  ----- \n",
      " 0   user_id            3130 non-null   object\n",
      " 1   session_id         3130 non-null   object\n",
      " 2   session_date       3130 non-null   object\n",
      " 3   session_start_ts   3130 non-null   object\n",
      " 4   install_date       3130 non-null   object\n",
      " 5   session_number     3130 non-null   int64 \n",
      " 6   registration_flag  3130 non-null   int64 \n",
      " 7   page_counter       3130 non-null   int64 \n",
      " 8   region             3130 non-null   object\n",
      " 9   device             3130 non-null   object\n",
      " 10  test_group         3130 non-null   object\n",
      "dtypes: int64(3), object(8)\n",
      "memory usage: 269.1+ KB\n"
     ]
    }
   ],
   "source": [
    "sessions_test_part.info()"
   ]
  },
  {
   "cell_type": "markdown",
   "metadata": {},
   "source": [
    "Таблица `sessions_test_part` не содержит пропусков, числовые данные распознаны корректно."
   ]
  },
  {
   "cell_type": "code",
   "execution_count": 22,
   "metadata": {},
   "outputs": [
    {
     "data": {
      "text/plain": [
       "array(['2025-10-14'], dtype=object)"
      ]
     },
     "execution_count": 22,
     "metadata": {},
     "output_type": "execute_result"
    }
   ],
   "source": [
    "sessions_test_part['session_date'].unique()"
   ]
  },
  {
   "cell_type": "markdown",
   "metadata": {},
   "source": [
    "Столбец `session_date` содержит данные об одной тестовой дате."
   ]
  },
  {
   "cell_type": "code",
   "execution_count": 23,
   "metadata": {},
   "outputs": [],
   "source": [
    "sessions_test_part_groups_shares = sessions_test_part.groupby('test_group')['user_id'].nunique()"
   ]
  },
  {
   "cell_type": "code",
   "execution_count": 24,
   "metadata": {},
   "outputs": [
    {
     "name": "stdout",
     "output_type": "stream",
     "text": [
      "Процентная разница в количестве пользователей в группах A и B составляет 0.74%.\n"
     ]
    }
   ],
   "source": [
    "st_part_groups_shares_for_diff = sessions_test_part_groups_shares.reset_index()\n",
    "st_part_groups_shares_for_diff = round(abs(st_part_groups_shares_for_diff.iloc[1,1]-st_part_groups_shares_for_diff.iloc[0,1])/st_part_groups_shares_for_diff.iloc[0,1]*100,2)\n",
    "print(f'Процентная разница в количестве пользователей в группах A и B составляет {st_part_groups_shares_for_diff}%.')"
   ]
  },
  {
   "cell_type": "markdown",
   "metadata": {},
   "source": [
    "Выведем на графике соотношение групп. \n",
    "Группа А составляет `50,2%`, группа В `49,81%`. Группы сопоставимы, что видно и наглядно."
   ]
  },
  {
   "cell_type": "code",
   "execution_count": 25,
   "metadata": {},
   "outputs": [
    {
     "data": {
      "image/png": "[encoded data removed]",
      "text/plain": [
       "<Figure size 432x288 with 1 Axes>"
      ]
     },
     "metadata": {},
     "output_type": "display_data"
    }
   ],
   "source": [
    "sessions_test_part_groups_shares.plot(\n",
    "    kind= 'pie',\n",
    "    title='Соотношение пользователей в тестовых группах А и В',\n",
    "    autopct= '%.2f%%',\n",
    "    ylabel= ''\n",
    ")\n",
    "\n",
    "plt.show()"
   ]
  },
  {
   "cell_type": "markdown",
   "metadata": {
    "id": "sgpNY5bv0eM0"
   },
   "source": [
    "#### 3.2. Проверка пересечений пользователей"
   ]
  },
  {
   "cell_type": "code",
   "execution_count": 26,
   "metadata": {
    "id": "E72ozN9FOX1u"
   },
   "outputs": [
    {
     "name": "stdout",
     "output_type": "stream",
     "text": [
      "Количество пересечений между группами А и В: 0\n"
     ]
    }
   ],
   "source": [
    "groups_check = sessions_test_part.groupby('user_id')['test_group'].nunique().reset_index()\n",
    "intersection = groups_check['user_id'].loc[groups_check['test_group'] > 1].count()\n",
    "print(f'Количество пересечений между группами А и В: {intersection}')"
   ]
  },
  {
   "cell_type": "markdown",
   "metadata": {},
   "source": [
    "Следовательно, никаких пользователей исключать не нужно."
   ]
  },
  {
   "cell_type": "markdown",
   "metadata": {
    "id": "6RvkNLrg0eM1"
   },
   "source": [
    "#### 3.3. Равномерность разделения пользователей по устройствам\n"
   ]
  },
  {
   "cell_type": "code",
   "execution_count": 27,
   "metadata": {
    "id": "x_IP6PUNPWHC"
   },
   "outputs": [],
   "source": [
    "# Разобьем данные по группам\n",
    "gr_a = sessions_test_part.loc[sessions_test_part['test_group'] == 'A']\n",
    "gr_b = sessions_test_part.loc[sessions_test_part['test_group'] == 'B']"
   ]
  },
  {
   "cell_type": "code",
   "execution_count": 28,
   "metadata": {},
   "outputs": [],
   "source": [
    "# Сгруппируем данные по уникальному пользователю и девайсу\n",
    "gr_a_device = gr_a.groupby(['user_id','device'])['session_id'].nunique().reset_index()\n",
    "gr_b_device = gr_b.groupby(['user_id','device'])['session_id'].nunique().reset_index()"
   ]
  },
  {
   "cell_type": "code",
   "execution_count": 29,
   "metadata": {},
   "outputs": [
    {
     "data": {
      "image/png": "[encoded data removed]",
      "text/plain": [
       "<Figure size 576x288 with 1 Axes>"
      ]
     },
     "metadata": {
      "needs_background": "light"
     },
     "output_type": "display_data"
    }
   ],
   "source": [
    "plt.figure(figsize=(8, 4))\n",
    "\n",
    "gr_a_device['device'].value_counts(normalize=True).plot(\n",
    "               kind='bar',\n",
    "               rot=0, \n",
    "               legend=False,\n",
    "               title=f'Распределение клиентов группы A в зависимости от типа устройства'\n",
    ")\n",
    "\n",
    "plt.xlabel('Устройство')\n",
    "plt.ylabel('Доля пользователей')\n",
    "plt.grid()\n",
    "\n",
    "plt.show()"
   ]
  },
  {
   "cell_type": "code",
   "execution_count": 30,
   "metadata": {},
   "outputs": [
    {
     "data": {
      "image/png": "[encoded data removed]",
      "text/plain": [
       "<Figure size 576x288 with 1 Axes>"
      ]
     },
     "metadata": {
      "needs_background": "light"
     },
     "output_type": "display_data"
    }
   ],
   "source": [
    "plt.figure(figsize=(8, 4))\n",
    "\n",
    "gr_b_device['device'].value_counts(normalize=True).plot(\n",
    "               kind='bar',\n",
    "               rot=0,\n",
    "               legend=False,\n",
    "               title=f'Распределение клиентов группы B в зависимости от типа устройства'\n",
    ")\n",
    "\n",
    "plt.xlabel('Устройство')\n",
    "plt.ylabel('Доля пользователей')\n",
    "plt.grid()\n",
    "\n",
    "plt.show()"
   ]
  },
  {
   "cell_type": "markdown",
   "metadata": {},
   "source": [
    "Как видно по построенным графикам, распределение уникальных сессий пользователей по устройствам выглядит очень похоже в относительных величинах. Порядок и пропорции приблизительно похожи. Необходимости корректировать группы нет."
   ]
  },
  {
   "cell_type": "markdown",
   "metadata": {
    "id": "gAgmP6vo0eM1"
   },
   "source": [
    "#### 3.4. Равномерность распределения пользователей по регионам"
   ]
  },
  {
   "cell_type": "code",
   "execution_count": 31,
   "metadata": {},
   "outputs": [],
   "source": [
    "# Сгруппируем данные по уникальному пользователю и региону\n",
    "gr_a_region = gr_a.groupby(['user_id','region'])['session_id'].nunique().reset_index()\n",
    "gr_b_region = gr_b.groupby(['user_id','region'])['session_id'].nunique().reset_index()"
   ]
  },
  {
   "cell_type": "code",
   "execution_count": 32,
   "metadata": {
    "id": "3hAq-FG4OdYM"
   },
   "outputs": [
    {
     "data": {
      "image/png": "[encoded data removed]",
      "text/plain": [
       "<Figure size 576x288 with 1 Axes>"
      ]
     },
     "metadata": {
      "needs_background": "light"
     },
     "output_type": "display_data"
    }
   ],
   "source": [
    "plt.figure(figsize=(8, 4))\n",
    "\n",
    "gr_a_region['region'].value_counts(normalize=True).plot(\n",
    "               kind='bar',\n",
    "               rot=0, \n",
    "               legend=False,\n",
    "               title=f'Распределение клиентов группы A в зависимости от региона'\n",
    ")\n",
    "\n",
    "plt.xlabel('Регион')\n",
    "plt.ylabel('Доля пользователей')\n",
    "plt.grid()\n",
    "\n",
    "plt.show()"
   ]
  },
  {
   "cell_type": "code",
   "execution_count": 33,
   "metadata": {},
   "outputs": [
    {
     "data": {
      "image/png": "[encoded data removed]",
      "text/plain": [
       "<Figure size 576x288 with 1 Axes>"
      ]
     },
     "metadata": {
      "needs_background": "light"
     },
     "output_type": "display_data"
    }
   ],
   "source": [
    "plt.figure(figsize=(8, 4))\n",
    "\n",
    "gr_b_region['region'].value_counts(normalize=True).plot(\n",
    "               kind='bar',\n",
    "               rot=0, \n",
    "               legend=False,\n",
    "               title=f'Распределение клиентов группы B в зависимости от региона'\n",
    ")\n",
    "\n",
    "plt.xlabel('Регион')\n",
    "plt.ylabel('Доля пользователей')\n",
    "plt.grid()\n",
    "\n",
    "plt.show()"
   ]
  },
  {
   "cell_type": "markdown",
   "metadata": {},
   "source": [
    "Аналогично пункту 3.3 распределение уникальных сессий пользователей по регионам выглядит сопоставимо. Необходимости корректировать группы нет."
   ]
  },
  {
   "cell_type": "markdown",
   "metadata": {
    "id": "X2WSZ-sDrSUi"
   },
   "source": [
    "#### 3.5. Вывод после проверки A/B-теста"
   ]
  },
  {
   "cell_type": "markdown",
   "metadata": {
    "id": "dDELHlAcOi8d"
   },
   "source": [
    "Как можно понять по проведенным исследованиям, группы сопоставимы по следующим признакам:\n",
    " - Количество пользователей в группах отличается незначительно, в рамках допустимой погрешности. Различие составляет 0,7%\n",
    " - Выборки являются независимыми, т.к. пересечений по пользователям не наблюдается\n",
    " - Распределение данных тестовой и контрольной групп по типам устройств, а также по регионам схожи и подтверждают возможность дальнейшего проведения A/B теста."
   ]
  },
  {
   "cell_type": "markdown",
   "metadata": {
    "id": "nudRr_BQ0eM2"
   },
   "source": [
    "### 4. Проверка результатов A/B-теста"
   ]
  },
  {
   "cell_type": "markdown",
   "metadata": {
    "id": "JVve-YBB0eM2"
   },
   "source": [
    "#### 4.1. Получение результатов теста и подсчёт основной метрики"
   ]
  },
  {
   "cell_type": "code",
   "execution_count": 34,
   "metadata": {
    "id": "EqRlwMtKPTir"
   },
   "outputs": [],
   "source": [
    "sessions_test = pd.read_csv('https://code.s3.yandex.net/datasets/sessions_project_test.csv')"
   ]
  },
  {
   "cell_type": "code",
   "execution_count": 35,
   "metadata": {},
   "outputs": [
    {
     "data": {
      "text/html": [
       "<div>\n",
       "<style scoped>\n",
       "    .dataframe tbody tr th:only-of-type {\n",
       "        vertical-align: middle;\n",
       "    }\n",
       "\n",
       "    .dataframe tbody tr th {\n",
       "        vertical-align: top;\n",
       "    }\n",
       "\n",
       "    .dataframe thead th {\n",
       "        text-align: right;\n",
       "    }\n",
       "</style>\n",
       "<table border=\"1\" class=\"dataframe\">\n",
       "  <thead>\n",
       "    <tr style=\"text-align: right;\">\n",
       "      <th></th>\n",
       "      <th>user_id</th>\n",
       "      <th>session_id</th>\n",
       "      <th>session_date</th>\n",
       "      <th>session_start_ts</th>\n",
       "      <th>install_date</th>\n",
       "      <th>session_number</th>\n",
       "      <th>registration_flag</th>\n",
       "      <th>page_counter</th>\n",
       "      <th>region</th>\n",
       "      <th>device</th>\n",
       "      <th>test_group</th>\n",
       "      <th>good_session</th>\n",
       "    </tr>\n",
       "  </thead>\n",
       "  <tbody>\n",
       "    <tr>\n",
       "      <th>100000</th>\n",
       "      <td>CF77C27B238C1BE3</td>\n",
       "      <td>0F7BC9B33685377C</td>\n",
       "      <td>2025-10-22</td>\n",
       "      <td>2025-10-22 19:01:50</td>\n",
       "      <td>2025-10-20</td>\n",
       "      <td>3</td>\n",
       "      <td>0</td>\n",
       "      <td>3</td>\n",
       "      <td>MENA</td>\n",
       "      <td>Android</td>\n",
       "      <td>A</td>\n",
       "      <td>0</td>\n",
       "    </tr>\n",
       "    <tr>\n",
       "      <th>100001</th>\n",
       "      <td>D7ED66C581409AC2</td>\n",
       "      <td>26C4475005E70F47</td>\n",
       "      <td>2025-10-17</td>\n",
       "      <td>2025-10-17 22:12:38</td>\n",
       "      <td>2025-10-17</td>\n",
       "      <td>1</td>\n",
       "      <td>0</td>\n",
       "      <td>5</td>\n",
       "      <td>CIS</td>\n",
       "      <td>PC</td>\n",
       "      <td>A</td>\n",
       "      <td>1</td>\n",
       "    </tr>\n",
       "    <tr>\n",
       "      <th>100002</th>\n",
       "      <td>E7EA2D51238020C6</td>\n",
       "      <td>9B9CDE6A612CBD73</td>\n",
       "      <td>2025-10-24</td>\n",
       "      <td>2025-10-24 14:54:07</td>\n",
       "      <td>2025-10-14</td>\n",
       "      <td>2</td>\n",
       "      <td>0</td>\n",
       "      <td>3</td>\n",
       "      <td>MENA</td>\n",
       "      <td>PC</td>\n",
       "      <td>B</td>\n",
       "      <td>0</td>\n",
       "    </tr>\n",
       "    <tr>\n",
       "      <th>100003</th>\n",
       "      <td>8A6FEFD7F34C5DA1</td>\n",
       "      <td>37291EC27106EF9D</td>\n",
       "      <td>2025-10-18</td>\n",
       "      <td>2025-10-18 00:05:10</td>\n",
       "      <td>2025-10-14</td>\n",
       "      <td>3</td>\n",
       "      <td>0</td>\n",
       "      <td>4</td>\n",
       "      <td>EU</td>\n",
       "      <td>Android</td>\n",
       "      <td>B</td>\n",
       "      <td>1</td>\n",
       "    </tr>\n",
       "    <tr>\n",
       "      <th>100004</th>\n",
       "      <td>EE2CA3C8481A0DE8</td>\n",
       "      <td>A4C833633CD4412E</td>\n",
       "      <td>2025-10-23</td>\n",
       "      <td>2025-10-23 10:02:27</td>\n",
       "      <td>2025-10-19</td>\n",
       "      <td>2</td>\n",
       "      <td>0</td>\n",
       "      <td>2</td>\n",
       "      <td>MENA</td>\n",
       "      <td>Android</td>\n",
       "      <td>B</td>\n",
       "      <td>0</td>\n",
       "    </tr>\n",
       "  </tbody>\n",
       "</table>\n",
       "</div>"
      ],
      "text/plain": [
       "                 user_id        session_id session_date     session_start_ts  \\\n",
       "100000  CF77C27B238C1BE3  0F7BC9B33685377C   2025-10-22  2025-10-22 19:01:50   \n",
       "100001  D7ED66C581409AC2  26C4475005E70F47   2025-10-17  2025-10-17 22:12:38   \n",
       "100002  E7EA2D51238020C6  9B9CDE6A612CBD73   2025-10-24  2025-10-24 14:54:07   \n",
       "100003  8A6FEFD7F34C5DA1  37291EC27106EF9D   2025-10-18  2025-10-18 00:05:10   \n",
       "100004  EE2CA3C8481A0DE8  A4C833633CD4412E   2025-10-23  2025-10-23 10:02:27   \n",
       "\n",
       "       install_date  session_number  registration_flag  page_counter region  \\\n",
       "100000   2025-10-20               3                  0             3   MENA   \n",
       "100001   2025-10-17               1                  0             5    CIS   \n",
       "100002   2025-10-14               2                  0             3   MENA   \n",
       "100003   2025-10-14               3                  0             4     EU   \n",
       "100004   2025-10-19               2                  0             2   MENA   \n",
       "\n",
       "         device test_group  good_session  \n",
       "100000  Android          A             0  \n",
       "100001       PC          A             1  \n",
       "100002       PC          B             0  \n",
       "100003  Android          B             1  \n",
       "100004  Android          B             0  "
      ]
     },
     "execution_count": 35,
     "metadata": {},
     "output_type": "execute_result"
    }
   ],
   "source": [
    "# Добавляем столбец\n",
    "sessions_test['good_session'] = sessions_test['page_counter'] >= 4\n",
    "sessions_test['good_session'] = sessions_test['good_session'].astype('int8')\n",
    "sessions_test.tail()"
   ]
  },
  {
   "cell_type": "code",
   "execution_count": 36,
   "metadata": {},
   "outputs": [
    {
     "data": {
      "text/plain": [
       "DatetimeIndex(['2025-10-14', '2025-10-15', '2025-10-16', '2025-10-17',\n",
       "               '2025-10-18', '2025-10-19', '2025-10-20', '2025-10-21',\n",
       "               '2025-10-22', '2025-10-23', '2025-10-24', '2025-10-25',\n",
       "               '2025-10-26', '2025-10-27', '2025-10-28', '2025-10-29',\n",
       "               '2025-10-30', '2025-10-31', '2025-11-01', '2025-11-02'],\n",
       "              dtype='datetime64[ns]', freq=None)"
      ]
     },
     "execution_count": 36,
     "metadata": {},
     "output_type": "execute_result"
    }
   ],
   "source": [
    "#Сроки проведения теста\n",
    "\n",
    "sessions_test['session_date'] = pd.to_datetime(sessions_test['session_date'], format = '%Y-%m-%d')\n",
    "dates = sessions_test['session_date'].unique()\n",
    "dt_index = pd.DatetimeIndex(dates)\n",
    "dt_index.sort_values()"
   ]
  },
  {
   "cell_type": "code",
   "execution_count": 37,
   "metadata": {},
   "outputs": [
    {
     "data": {
      "text/plain": [
       "test_group\n",
       "A    15163\n",
       "B    15416\n",
       "Name: user_id, dtype: int64"
      ]
     },
     "execution_count": 37,
     "metadata": {},
     "output_type": "execute_result"
    }
   ],
   "source": [
    "#Число пользователей\n",
    "\n",
    "sessions_test.groupby('test_group')['user_id'].nunique()"
   ]
  },
  {
   "cell_type": "markdown",
   "metadata": {
    "id": "aeYhrMYy0eM2"
   },
   "source": [
    "#### 4.2. Проверка корректности результатов теста"
   ]
  },
  {
   "cell_type": "code",
   "execution_count": 38,
   "metadata": {
    "id": "5NUlcltkTTSU"
   },
   "outputs": [
    {
     "data": {
      "image/png": "[encoded data removed]",
      "text/plain": [
       "<Figure size 720x360 with 1 Axes>"
      ]
     },
     "metadata": {
      "needs_background": "light"
     },
     "output_type": "display_data"
    }
   ],
   "source": [
    "grouped = sessions_test.groupby(['session_date', 'test_group'])['session_id'].nunique().unstack(fill_value=0)\n",
    "\n",
    "grouped.plot(kind='line',\n",
    "               title=f'Распределение числа уникальных сессий по дням',\n",
    "               legend=True,\n",
    "               ylabel='Количество сессий',\n",
    "               xlabel='Дата',\n",
    "               rot=45,\n",
    "               figsize=(10, 5))\n",
    "plt.grid()\n",
    "\n",
    "plt.show()"
   ]
  },
  {
   "cell_type": "markdown",
   "metadata": {},
   "source": [
    "Как видно по построенному графику с распределением числа уникальных сессий по дням, динамики для тестовой и контрольной группы очень схожи и имеют минимум отклонений.  \n",
    "Подтвердим это с помощью статистического теста. Использовать будем `тест Стьюдента`, т.к. нужно сделать вывод о равенстве средних двух выборок."
   ]
  },
  {
   "cell_type": "markdown",
   "metadata": {},
   "source": [
    "Сформулируем гипотезу:\n",
    " - `H0` - средние количества уникальных сессий по дням для групп **А** и **В** не отличаются\n",
    " - `H1` - среднее количество уникальных сессий по дням для группы **В** больше или меньше, чем для группы **А**\n",
    " "
   ]
  },
  {
   "cell_type": "code",
   "execution_count": 39,
   "metadata": {},
   "outputs": [
    {
     "name": "stdout",
     "output_type": "stream",
     "text": [
      "p-value теста Стьюдента = 0.94\n",
      "Нулевая гипотеза находит подтверждение! Выборочные средние в группах A и B равны\n"
     ]
    }
   ],
   "source": [
    "from scipy.stats import ttest_ind\n",
    "\n",
    "metric_a = grouped.reset_index()['A'] ## выборка целевой метрики для группы A\n",
    "metric_b = grouped.reset_index()['B'] ## выборка целевой метрики для группы B\n",
    "\n",
    "alpha = 0.05 ## на каком уровне значимости проверяем гипотезу о равенстве выборочных средних\n",
    "stat_ttest, p_value_ttest = ttest_ind(\n",
    "    metric_a, \n",
    "    metric_b, \n",
    "    alternative='two-sided' ## поскольку альтернативная гипотеза о том, что выборочное среднее первой выборки(metric_a) меньше второй выборки\n",
    ") ## применяем тест Стьюдента (классический T-test)\n",
    "\n",
    "if p_value_ttest>alpha:\n",
    "    print(f'p-value теста Стьюдента = {round(p_value_ttest, 2)}')\n",
    "    print('Нулевая гипотеза находит подтверждение! Выборочные средние в группах A и B равны')\n",
    "else:\n",
    "    print(f'p-value теста Стьюдента ={round(p_value_ttest, 2)}')\n",
    "    print('Нулевая гипотеза не находит подтверждения! Выборочные средние в группах A и B не равны, и в группе B больше')"
   ]
  },
  {
   "cell_type": "markdown",
   "metadata": {},
   "source": [
    "По итогам теста принимаем нулевую гипотезу о равенстве средних и проводим A/B тест дальше."
   ]
  },
  {
   "cell_type": "markdown",
   "metadata": {
    "id": "7kwRxzg70eM3"
   },
   "source": [
    "#### 4.3. Сравнение доли успешных сессий"
   ]
  },
  {
   "cell_type": "code",
   "execution_count": 40,
   "metadata": {
    "id": "Uku-V1CpPRCz"
   },
   "outputs": [
    {
     "name": "stdout",
     "output_type": "stream",
     "text": [
      "  test_group  good_session\n",
      "0          A      0.307723\n",
      "1          B      0.318290\n"
     ]
    }
   ],
   "source": [
    "delta_prop = sessions_test.groupby('test_group')['good_session'].mean().reset_index()\n",
    "print(delta_prop)"
   ]
  },
  {
   "cell_type": "code",
   "execution_count": 41,
   "metadata": {},
   "outputs": [
    {
     "name": "stdout",
     "output_type": "stream",
     "text": [
      "Доля успешных сессий в группе B больше чем в группе A на 1.1%\n"
     ]
    }
   ],
   "source": [
    "delta = delta_prop['good_session'].max() - delta_prop['good_session'].min()\n",
    "print(f'Доля успешных сессий в группе B больше чем в группе A на {round(delta*100,1)}%')"
   ]
  },
  {
   "cell_type": "markdown",
   "metadata": {
    "id": "9fMFuja10eM4"
   },
   "source": [
    "#### 4.4. Насколько статистически значимо изменение ключевой метрики"
   ]
  },
  {
   "cell_type": "markdown",
   "metadata": {},
   "source": [
    "Подтвердим или опровергнем вывод из пункта 4.3. Для этого проведем проверку с помощью `Z-теста пропорций`, который позволяет определить, существует ли разницы в долях для независимых групп.\n",
    "\n",
    "Сформулируем гипотезу:\n",
    " - `H0` - вероятности успеха (в данном случае просмотра 4-х и более страниц) для групп **А** и **В** равны `или` вероятность успеха для группы **В** *меньше*, чем для группы **А**\n",
    " - `H1` - вероятность успеха для группы **В** больше, чем для группы **А**\n",
    " "
   ]
  },
  {
   "cell_type": "code",
   "execution_count": 42,
   "metadata": {},
   "outputs": [
    {
     "name": "stdout",
     "output_type": "stream",
     "text": [
      "pvalue=0.0001574739988036123 < 0.05\n",
      "Нулевая гипотеза не находит подтверждения!\n"
     ]
    }
   ],
   "source": [
    "from statsmodels.stats.proportion import proportions_ztest\n",
    "\n",
    "metric_a_sess = sessions_test['good_session'].loc[sessions_test['test_group']=='A']\n",
    "metric_b_sess = sessions_test['good_session'].loc[sessions_test['test_group']=='B']\n",
    "\n",
    "n_a = metric_a_sess.shape[0]\n",
    "n_b = metric_b_sess.shape[0]\n",
    "m_a = metric_a_sess.sum()\n",
    "m_b = metric_b_sess.sum()\n",
    "\n",
    "alpha = 0.05 ## на каком уровне значимости проверяем гипотезу о равенстве вероятностей\n",
    "\n",
    "stat_ztest, p_value_ztest = proportions_ztest(\n",
    "    [m_b, m_a],\n",
    "    [n_b, n_a],\n",
    "    alternative='larger'\n",
    ")\n",
    "\n",
    "if p_value_ztest > alpha:\n",
    "    print(f'pvalue={p_value_ztest} > {alpha}')\n",
    "    print('Нулевая гипотеза находит подтверждение!')\n",
    "else:\n",
    "    print(f'pvalue={p_value_ztest} < {alpha}')\n",
    "    print('Нулевая гипотеза не находит подтверждения!')"
   ]
  },
  {
   "cell_type": "markdown",
   "metadata": {
    "id": "GnJrkY9Q63zS"
   },
   "source": [
    "#### 4.5. Вывод по результатам A/B-эксперимента"
   ]
  },
  {
   "cell_type": "markdown",
   "metadata": {
    "id": "rri8KRIgPMrW"
   },
   "source": [
    "Эксперимент проводился с `14 октября` по `2 ноября` (20 дней) с участием `15 163` пользователей в контрольной группе (**A**) и `15 416` пользователей в тестовой группе (**B**).\n",
    "\n",
    "Внедрение нового алгоритма рекомендаций привело ***к росту ключевой метрики (доли успешных сессий)*** на `1.1%` в группе B по сравнению с группой A. Значимость этого изменения подтверждена Z-тестом пропорций. P-value (`0.00016`) значительно ниже стандартного уровня значимости (`0.05`), что свидетельствует о статистически значимом эффекте от изменений.\n",
    "\n",
    "**Рекомендация:** Учитывая положительное влияние на метрику и высокую статистическую значимость, целесообразно внедрить новый алгоритм рекомендаций в приложение. Однако перед полным запуском стоит проверить, не оказал ли алгоритм негативного влияния на другие важные показатели (например, retention, среднее время сессии и т. д.)."
   ]
  }
 ],
 "metadata": {
  "ExecuteTimeLog": [
   {
    "duration": 422,
    "start_time": "2025-05-17T13:45:05.361Z"
   },
   {
    "duration": 2196,
    "start_time": "2025-05-17T13:45:05.786Z"
   },
   {
    "duration": 17,
    "start_time": "2025-05-17T13:45:07.984Z"
   },
   {
    "duration": 158,
    "start_time": "2025-05-17T13:45:08.003Z"
   },
   {
    "duration": 230,
    "start_time": "2025-05-17T13:45:08.164Z"
   },
   {
    "duration": 111,
    "start_time": "2025-05-17T13:45:08.396Z"
   },
   {
    "duration": 597,
    "start_time": "2025-05-17T13:45:08.509Z"
   },
   {
    "duration": 341,
    "start_time": "2025-05-17T13:45:09.108Z"
   },
   {
    "duration": 180,
    "start_time": "2025-05-17T13:45:09.451Z"
   },
   {
    "duration": 756,
    "start_time": "2025-05-17T13:45:09.633Z"
   },
   {
    "duration": 4,
    "start_time": "2025-05-17T13:45:10.391Z"
   },
   {
    "duration": 218,
    "start_time": "2025-05-17T13:45:10.396Z"
   },
   {
    "duration": 258,
    "start_time": "2025-05-17T13:45:10.616Z"
   },
   {
    "duration": 185,
    "start_time": "2025-05-17T13:45:10.881Z"
   },
   {
    "duration": 25,
    "start_time": "2025-05-17T13:45:11.070Z"
   },
   {
    "duration": 390,
    "start_time": "2025-05-17T13:45:11.097Z"
   },
   {
    "duration": 812,
    "start_time": "2025-05-17T13:45:11.489Z"
   },
   {
    "duration": 317,
    "start_time": "2025-05-17T13:45:12.303Z"
   },
   {
    "duration": 204,
    "start_time": "2025-05-17T13:45:12.674Z"
   },
   {
    "duration": 19,
    "start_time": "2025-05-17T13:45:12.882Z"
   },
   {
    "duration": 14,
    "start_time": "2025-05-17T13:45:12.902Z"
   },
   {
    "duration": 67,
    "start_time": "2025-05-17T13:45:12.917Z"
   },
   {
    "duration": 5,
    "start_time": "2025-05-17T13:45:12.988Z"
   },
   {
    "duration": 9,
    "start_time": "2025-05-17T13:45:12.995Z"
   },
   {
    "duration": 188,
    "start_time": "2025-05-17T13:45:13.006Z"
   },
   {
    "duration": 10,
    "start_time": "2025-05-17T13:45:13.196Z"
   },
   {
    "duration": 10,
    "start_time": "2025-05-17T13:45:13.208Z"
   },
   {
    "duration": 152,
    "start_time": "2025-05-17T13:45:13.220Z"
   },
   {
    "duration": 137,
    "start_time": "2025-05-17T13:45:13.375Z"
   },
   {
    "duration": 132,
    "start_time": "2025-05-17T13:45:13.513Z"
   },
   {
    "duration": 200,
    "start_time": "2025-05-17T13:45:13.647Z"
   },
   {
    "duration": 519,
    "start_time": "2025-05-17T13:45:13.849Z"
   },
   {
    "duration": 19,
    "start_time": "2025-05-17T13:45:14.371Z"
   },
   {
    "duration": 33,
    "start_time": "2025-05-17T13:45:14.391Z"
   },
   {
    "duration": 33,
    "start_time": "2025-05-17T13:45:14.426Z"
   },
   {
    "duration": 284,
    "start_time": "2025-05-17T13:45:14.470Z"
   },
   {
    "duration": 8,
    "start_time": "2025-05-17T13:45:14.756Z"
   },
   {
    "duration": 19,
    "start_time": "2025-05-17T13:45:14.781Z"
   },
   {
    "duration": 5,
    "start_time": "2025-05-17T13:45:14.801Z"
   },
   {
    "duration": 25,
    "start_time": "2025-05-17T13:45:14.808Z"
   },
   {
    "duration": 120,
    "start_time": "2025-05-17T13:55:14.711Z"
   },
   {
    "duration": 418,
    "start_time": "2025-05-17T19:20:37.590Z"
   },
   {
    "duration": 1822,
    "start_time": "2025-05-17T19:20:38.010Z"
   },
   {
    "duration": 27,
    "start_time": "2025-05-17T19:20:39.834Z"
   },
   {
    "duration": 159,
    "start_time": "2025-05-17T19:20:39.863Z"
   },
   {
    "duration": 237,
    "start_time": "2025-05-17T19:20:40.024Z"
   },
   {
    "duration": 114,
    "start_time": "2025-05-17T19:20:40.262Z"
   },
   {
    "duration": 602,
    "start_time": "2025-05-17T19:20:40.377Z"
   },
   {
    "duration": 354,
    "start_time": "2025-05-17T19:20:40.980Z"
   },
   {
    "duration": 168,
    "start_time": "2025-05-17T19:20:41.336Z"
   },
   {
    "duration": 871,
    "start_time": "2025-05-17T19:20:41.507Z"
   },
   {
    "duration": 3,
    "start_time": "2025-05-17T19:20:42.380Z"
   },
   {
    "duration": 420,
    "start_time": "2025-05-17T19:20:42.385Z"
   },
   {
    "duration": 398,
    "start_time": "2025-05-17T19:20:42.807Z"
   },
   {
    "duration": 167,
    "start_time": "2025-05-17T19:20:43.207Z"
   },
   {
    "duration": 15,
    "start_time": "2025-05-17T19:20:43.376Z"
   },
   {
    "duration": 277,
    "start_time": "2025-05-17T19:20:43.393Z"
   },
   {
    "duration": 519,
    "start_time": "2025-05-17T19:20:43.671Z"
   },
   {
    "duration": 133,
    "start_time": "2025-05-17T19:20:44.192Z"
   },
   {
    "duration": 37,
    "start_time": "2025-05-17T19:20:44.327Z"
   },
   {
    "duration": 11,
    "start_time": "2025-05-17T19:20:44.366Z"
   },
   {
    "duration": 16,
    "start_time": "2025-05-17T19:20:44.379Z"
   },
   {
    "duration": 6,
    "start_time": "2025-05-17T19:20:44.397Z"
   },
   {
    "duration": 5,
    "start_time": "2025-05-17T19:20:44.405Z"
   },
   {
    "duration": 8,
    "start_time": "2025-05-17T19:20:44.412Z"
   },
   {
    "duration": 105,
    "start_time": "2025-05-17T19:20:44.422Z"
   },
   {
    "duration": 9,
    "start_time": "2025-05-17T19:20:44.528Z"
   },
   {
    "duration": 22,
    "start_time": "2025-05-17T19:20:44.539Z"
   },
   {
    "duration": 13,
    "start_time": "2025-05-17T19:20:44.564Z"
   },
   {
    "duration": 147,
    "start_time": "2025-05-17T19:20:44.578Z"
   },
   {
    "duration": 148,
    "start_time": "2025-05-17T19:20:44.727Z"
   },
   {
    "duration": 14,
    "start_time": "2025-05-17T19:20:44.877Z"
   },
   {
    "duration": 166,
    "start_time": "2025-05-17T19:20:44.893Z"
   },
   {
    "duration": 131,
    "start_time": "2025-05-17T19:20:45.061Z"
   },
   {
    "duration": 546,
    "start_time": "2025-05-17T19:20:45.194Z"
   },
   {
    "duration": 15,
    "start_time": "2025-05-17T19:20:45.742Z"
   },
   {
    "duration": 367,
    "start_time": "2025-05-17T19:20:45.761Z"
   },
   {
    "duration": 51,
    "start_time": "2025-05-17T19:20:46.130Z"
   },
   {
    "duration": 345,
    "start_time": "2025-05-17T19:20:46.183Z"
   },
   {
    "duration": 7,
    "start_time": "2025-05-17T19:20:46.530Z"
   },
   {
    "duration": 28,
    "start_time": "2025-05-17T19:20:46.539Z"
   },
   {
    "duration": 4,
    "start_time": "2025-05-17T19:20:46.569Z"
   },
   {
    "duration": 31,
    "start_time": "2025-05-17T19:20:46.575Z"
   }
  ],
  "colab": {
   "provenance": []
  },
  "kernelspec": {
   "display_name": "Python [conda env:base] *",
   "language": "python",
   "name": "conda-base-py"
  },
  "language_info": {
   "codemirror_mode": {
    "name": "ipython",
    "version": 3
   },
   "file_extension": ".py",
   "mimetype": "text/x-python",
   "name": "python",
   "nbconvert_exporter": "python",
   "pygments_lexer": "ipython3",
   "version": "3.12.7"
  },
  "toc": {
   "base_numbering": 1,
   "nav_menu": {},
   "number_sections": true,
   "sideBar": true,
   "skip_h1_title": true,
   "title_cell": "Table of Contents",
   "title_sidebar": "Contents",
   "toc_cell": false,
   "toc_position": {
    "height": "calc(100% - 180px)",
    "left": "10px",
    "top": "150px",
    "width": "305.404388px"
   },
   "toc_section_display": true,
   "toc_window_display": true
  }
 },
 "nbformat": 4,
 "nbformat_minor": 4
}
