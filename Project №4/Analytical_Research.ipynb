{
 "cells": [
  {
   "cell_type": "markdown",
   "id": "_E41Wr5fqnFT",
   "metadata": {
    "id": "_E41Wr5fqnFT"
   },
   "source": [
    "# Часть 1. Проверка гипотезы в Python и составление аналитической записки"
   ]
  },
  {
   "cell_type": "markdown",
   "id": "e06910dd",
   "metadata": {
    "id": "e06910dd"
   },
   "source": [
    "# Проверка гипотезы для \"Яндекс.Книги\"\n",
    "\n",
    "- Автор: Авиленко Арина\n",
    "- Дата: 22.05.2025"
   ]
  },
  {
   "cell_type": "markdown",
   "id": "4149134c",
   "metadata": {
    "id": "4149134c"
   },
   "source": [
    "## Цели и задачи проекта\n"
   ]
  },
  {
   "cell_type": "markdown",
   "id": "6faf5701-25f7-4fdc-8088-b0ced26dc5c8",
   "metadata": {},
   "source": [
    "Статистически доказать или опровергнуть гипотезу о том, что пользователи из Санкт-Петербурга проводят в среднем больше времени за чтением и прослушиванием книг в приложении `Яндекс.Книги`, чем пользователи из Москвы."
   ]
  },
  {
   "cell_type": "markdown",
   "id": "728986ea",
   "metadata": {
    "id": "728986ea"
   },
   "source": [
    "## Описание данных\n"
   ]
  },
  {
   "cell_type": "markdown",
   "id": "53d6e495-8a4e-46d4-881d-6e1617c414c1",
   "metadata": {},
   "source": [
    "Данные содержат информацию о времени активности пользователей приложения в часах, разделённую по городам: Санкт-Петербург и Москва. Каждый пользователь имеет уникальный идентификатор. "
   ]
  },
  {
   "cell_type": "markdown",
   "id": "4fecaf95",
   "metadata": {
    "id": "4fecaf95"
   },
   "source": [
    "## Содержимое проекта"
   ]
  },
  {
   "cell_type": "markdown",
   "id": "b11de70e-68b5-4d7a-bbf6-787a79b6d312",
   "metadata": {},
   "source": [
    "- Предварительный анализ данных: проверка на дубликаты идентификаторов пользователей.\n",
    "- Сравнение размеров групп пользователей из Санкт-Петербурга и Москвы.\n",
    "- Выбор и обоснование типа t-теста для проверки гипотезы.\n",
    "- Проведение t-теста и определение p-value.\n",
    "- Интерпретация результатов теста и формулировка выводов.\n",
    "- Возможные объяснения полученных результатов.\n",
    "- Подготовка аналитической записки с описанием проведённого анализа, результатов и выводов."
   ]
  },
  {
   "cell_type": "markdown",
   "id": "52db7091-cde1-480b-a82e-e4a057ff7e33",
   "metadata": {},
   "source": [
    "---"
   ]
  },
  {
   "cell_type": "markdown",
   "id": "6f7d21d6",
   "metadata": {
    "id": "6f7d21d6"
   },
   "source": [
    "## 1. Загрузка данных и знакомство с ними\n"
   ]
  },
  {
   "cell_type": "code",
   "execution_count": 1,
   "id": "05faf34b",
   "metadata": {
    "id": "05faf34b"
   },
   "outputs": [],
   "source": [
    "# Импортируем нужные библиотеки\n",
    "import pandas as pd\n",
    "import matplotlib.pyplot as plt\n",
    "from statsmodels.stats.power import NormalIndPower\n",
    "from math import ceil\n",
    "from scipy.stats import ttest_ind\n",
    "from statsmodels.stats.proportion import proportions_ztest\n",
    "from datetime import datetime, timedelta"
   ]
  },
  {
   "cell_type": "code",
   "execution_count": 2,
   "id": "ce87c1db",
   "metadata": {
    "id": "ce87c1db"
   },
   "outputs": [],
   "source": [
    "# Импортируем данные \n",
    "yandex_books = pd.read_csv('https://code.s3.yandex.net/datasets/yandex_knigi_data.csv')"
   ]
  },
  {
   "cell_type": "code",
   "execution_count": 3,
   "id": "f68a7419",
   "metadata": {
    "id": "f68a7419"
   },
   "outputs": [
    {
     "name": "stdout",
     "output_type": "stream",
     "text": [
      "<class 'pandas.core.frame.DataFrame'>\n",
      "RangeIndex: 8784 entries, 0 to 8783\n",
      "Data columns (total 4 columns):\n",
      " #   Column      Non-Null Count  Dtype  \n",
      "---  ------      --------------  -----  \n",
      " 0   Unnamed: 0  8784 non-null   int64  \n",
      " 1   city        8784 non-null   object \n",
      " 2   puid        8784 non-null   int64  \n",
      " 3   hours       8784 non-null   float64\n",
      "dtypes: float64(1), int64(2), object(1)\n",
      "memory usage: 274.6+ KB\n"
     ]
    }
   ],
   "source": [
    "yandex_books.info()"
   ]
  },
  {
   "cell_type": "code",
   "execution_count": 4,
   "id": "1a329b0e-622b-448d-92e3-d887fa65d6dc",
   "metadata": {},
   "outputs": [
    {
     "data": {
      "text/html": [
       "<div>\n",
       "<style scoped>\n",
       "    .dataframe tbody tr th:only-of-type {\n",
       "        vertical-align: middle;\n",
       "    }\n",
       "\n",
       "    .dataframe tbody tr th {\n",
       "        vertical-align: top;\n",
       "    }\n",
       "\n",
       "    .dataframe thead th {\n",
       "        text-align: right;\n",
       "    }\n",
       "</style>\n",
       "<table border=\"1\" class=\"dataframe\">\n",
       "  <thead>\n",
       "    <tr style=\"text-align: right;\">\n",
       "      <th></th>\n",
       "      <th>Unnamed: 0</th>\n",
       "      <th>city</th>\n",
       "      <th>puid</th>\n",
       "      <th>hours</th>\n",
       "    </tr>\n",
       "  </thead>\n",
       "  <tbody>\n",
       "    <tr>\n",
       "      <th>8779</th>\n",
       "      <td>8779</td>\n",
       "      <td>Санкт-Петербург</td>\n",
       "      <td>1130000028554332</td>\n",
       "      <td>4.107774</td>\n",
       "    </tr>\n",
       "    <tr>\n",
       "      <th>8780</th>\n",
       "      <td>8780</td>\n",
       "      <td>Санкт-Петербург</td>\n",
       "      <td>1130000030307246</td>\n",
       "      <td>45.069222</td>\n",
       "    </tr>\n",
       "    <tr>\n",
       "      <th>8781</th>\n",
       "      <td>8781</td>\n",
       "      <td>Санкт-Петербург</td>\n",
       "      <td>1130000038726322</td>\n",
       "      <td>0.211944</td>\n",
       "    </tr>\n",
       "    <tr>\n",
       "      <th>8782</th>\n",
       "      <td>8782</td>\n",
       "      <td>Санкт-Петербург</td>\n",
       "      <td>1130000047892100</td>\n",
       "      <td>4.311841</td>\n",
       "    </tr>\n",
       "    <tr>\n",
       "      <th>8783</th>\n",
       "      <td>8783</td>\n",
       "      <td>Санкт-Петербург</td>\n",
       "      <td>1130000061443598</td>\n",
       "      <td>20.847222</td>\n",
       "    </tr>\n",
       "  </tbody>\n",
       "</table>\n",
       "</div>"
      ],
      "text/plain": [
       "      Unnamed: 0             city              puid      hours\n",
       "8779        8779  Санкт-Петербург  1130000028554332   4.107774\n",
       "8780        8780  Санкт-Петербург  1130000030307246  45.069222\n",
       "8781        8781  Санкт-Петербург  1130000038726322   0.211944\n",
       "8782        8782  Санкт-Петербург  1130000047892100   4.311841\n",
       "8783        8783  Санкт-Петербург  1130000061443598  20.847222"
      ]
     },
     "execution_count": 4,
     "metadata": {},
     "output_type": "execute_result"
    }
   ],
   "source": [
    "yandex_books.tail()"
   ]
  },
  {
   "cell_type": "markdown",
   "id": "7c1ca729-1a8c-48bd-a0a2-e180e4be0be1",
   "metadata": {},
   "source": [
    "Исходный датасет `yandex_books` содержит 4 стобца:\n",
    "- \"Unnamed: 0\" дублирует индекс, его можно убрать\n",
    "- \"city\" содержит информацию о городе\n",
    "- \"puid\" уникальный идентификатор пользователя\n",
    "- \"hours\" время прослушивания\n",
    "\n",
    "Типы столбцов были определены корректно, вносить изменения не требуется."
   ]
  },
  {
   "cell_type": "code",
   "execution_count": 5,
   "id": "f195b40f-37d9-414c-9d24-492ae8c1ce59",
   "metadata": {},
   "outputs": [],
   "source": [
    "# Оставляем в датасете столбцы с необходимой информацией\n",
    "yandex_books = yandex_books[['city','puid','hours']]"
   ]
  },
  {
   "cell_type": "code",
   "execution_count": 6,
   "id": "eacaa9a2-4234-47ed-a1b4-e9e4580fb67c",
   "metadata": {},
   "outputs": [
    {
     "name": "stdout",
     "output_type": "stream",
     "text": [
      "Уникальных пользователей 8540\n",
      "Дубликатов 244 штук или 3.0%\n"
     ]
    }
   ],
   "source": [
    "# Проверим число уникальных идентификаторов пользователей\n",
    "\n",
    "n_uniq_puid = yandex_books['puid'].nunique()\n",
    "dubs_u = yandex_books.shape[0]-yandex_books['puid'].nunique()\n",
    "dubs_perc = round(100-yandex_books['puid'].nunique()/yandex_books.shape[0]*100,0)\n",
    "\n",
    "print(f'Уникальных пользователей {n_uniq_puid}')\n",
    "print(f'Дубликатов {dubs_u} штук или {dubs_perc}%')"
   ]
  },
  {
   "cell_type": "code",
   "execution_count": 7,
   "id": "b72497ed",
   "metadata": {},
   "outputs": [
    {
     "data": {
      "text/plain": [
       "244"
      ]
     },
     "execution_count": 7,
     "metadata": {},
     "output_type": "execute_result"
    }
   ],
   "source": [
    "yandex_books['puid'].duplicated().sum()"
   ]
  },
  {
   "cell_type": "markdown",
   "id": "48cac3c7-7204-4f9f-8b2f-8d3ae05b6787",
   "metadata": {},
   "source": [
    "Всего в датасете есть 8540 уникальных пользователей, а строк 8784. Попробуем понять, откуда появились 244 дубликата, и придумать, что с ними делать."
   ]
  },
  {
   "cell_type": "code",
   "execution_count": 8,
   "id": "22ea23ee-c965-4733-8ef5-d29e0dc4a159",
   "metadata": {},
   "outputs": [
    {
     "name": "stdout",
     "output_type": "stream",
     "text": [
      "0 0 0\n"
     ]
    }
   ],
   "source": [
    "print(yandex_books.duplicated().sum(), \n",
    "      yandex_books[['puid', 'hours']].duplicated().sum(),\n",
    "      yandex_books[['puid', 'city']].duplicated().sum())"
   ]
  },
  {
   "cell_type": "markdown",
   "id": "3737426d-3902-4284-bafc-c90aef9c5735",
   "metadata": {},
   "source": [
    "Дубликаты в самой таблице, а также в комбинациях Пользователь-Город и Пользователь-Время отсутствуют. Значит, задублированы именно значения идентификатора пользователя."
   ]
  },
  {
   "cell_type": "code",
   "execution_count": 9,
   "id": "e66b6f93-6185-40b5-924f-cb7765eaf185",
   "metadata": {},
   "outputs": [
    {
     "data": {
      "text/plain": [
       "puid\n",
       "1977784899          2\n",
       "227462418           2\n",
       "1450333124          2\n",
       "430410194           2\n",
       "9979490             2\n",
       "                   ..\n",
       "521764791           1\n",
       "521705370           1\n",
       "521658742           1\n",
       "519303101           1\n",
       "1130000065762132    1\n",
       "Name: city, Length: 8540, dtype: int64"
      ]
     },
     "execution_count": 9,
     "metadata": {},
     "output_type": "execute_result"
    }
   ],
   "source": [
    "yandex_books.groupby('puid')['city'].nunique().sort_values(ascending=False)"
   ]
  },
  {
   "cell_type": "code",
   "execution_count": 10,
   "id": "202a1955-7ed9-499e-b19c-27ca9566b807",
   "metadata": {},
   "outputs": [
    {
     "data": {
      "text/html": [
       "<div>\n",
       "<style scoped>\n",
       "    .dataframe tbody tr th:only-of-type {\n",
       "        vertical-align: middle;\n",
       "    }\n",
       "\n",
       "    .dataframe tbody tr th {\n",
       "        vertical-align: top;\n",
       "    }\n",
       "\n",
       "    .dataframe thead th {\n",
       "        text-align: right;\n",
       "    }\n",
       "</style>\n",
       "<table border=\"1\" class=\"dataframe\">\n",
       "  <thead>\n",
       "    <tr style=\"text-align: right;\">\n",
       "      <th></th>\n",
       "      <th>city</th>\n",
       "      <th>puid</th>\n",
       "      <th>hours</th>\n",
       "    </tr>\n",
       "  </thead>\n",
       "  <tbody>\n",
       "    <tr>\n",
       "      <th>35</th>\n",
       "      <td>Москва</td>\n",
       "      <td>2637041</td>\n",
       "      <td>10.317371</td>\n",
       "    </tr>\n",
       "    <tr>\n",
       "      <th>6247</th>\n",
       "      <td>Санкт-Петербург</td>\n",
       "      <td>2637041</td>\n",
       "      <td>3.883926</td>\n",
       "    </tr>\n",
       "  </tbody>\n",
       "</table>\n",
       "</div>"
      ],
      "text/plain": [
       "                 city     puid      hours\n",
       "35             Москва  2637041  10.317371\n",
       "6247  Санкт-Петербург  2637041   3.883926"
      ]
     },
     "execution_count": 10,
     "metadata": {},
     "output_type": "execute_result"
    }
   ],
   "source": [
    "# Выведем один из примеров с дублированным id\n",
    "yandex_books.loc[yandex_books['puid'] == yandex_books.groupby('puid')['hours'].nunique().idxmax()]"
   ]
  },
  {
   "cell_type": "markdown",
   "id": "76564ede-8961-48d8-8930-7891282de1fa",
   "metadata": {},
   "source": [
    "На примере видно, что один и тот же пользователь мог слушать книги в приложении в обоих тестируемых городах.\n",
    "Это неудивительно - и москвичи, и петербуржцы часто перемещаются между столицами по разным причинам, будь то работа или туризм. Книгу можно слушать и в отпуске, и после тяжелого трудового дня.\n",
    "\n",
    "В данном случае нам необходимо подтвердить или опровергуть гипотезу о  том, что пользователи из Санкт-Петербурга проводят в среднем больше времени за чтением и прослушиванием книг в приложении, чем пользователи из Москвы. Поэтому такие путешественники нарушат условие о `независимости` выборок, так что их следует удалить. Важно учесть, что таких дубликатов 3 * 2 = 6%."
   ]
  },
  {
   "cell_type": "code",
   "execution_count": 11,
   "id": "52b597f9-b4ac-474d-b463-1ac0b8e458ed",
   "metadata": {},
   "outputs": [],
   "source": [
    "# Выделим в отдельный список id дубликатов\n",
    "doubled = yandex_books.groupby('puid')['city'].nunique().reset_index()\n",
    "doubled = doubled['puid'].loc[doubled['city'] > 1]"
   ]
  },
  {
   "cell_type": "code",
   "execution_count": 12,
   "id": "d20054a2-a191-4765-88eb-397748290712",
   "metadata": {},
   "outputs": [
    {
     "name": "stdout",
     "output_type": "stream",
     "text": [
      "Int64Index([  35,  134,  145,  150,  187,  230,  266,  281,  315,  335,\n",
      "            ...\n",
      "            8681, 8723, 8761, 8767, 8769, 8771, 8772, 8773, 8775, 8779],\n",
      "           dtype='int64', length=488)\n"
     ]
    }
   ],
   "source": [
    "# Сначала находим индексы строк для удаления\n",
    "indices_to_drop = yandex_books[yandex_books['puid'].isin(doubled)].index\n",
    "print(indices_to_drop)"
   ]
  },
  {
   "cell_type": "code",
   "execution_count": 13,
   "id": "681ddc28-e65e-492c-8151-7060305aa085",
   "metadata": {},
   "outputs": [],
   "source": [
    "# Затем удаляем их\n",
    "yandex_books = yandex_books.drop(indices_to_drop)"
   ]
  },
  {
   "cell_type": "code",
   "execution_count": 14,
   "id": "e9f6363b-169a-4c13-8866-5d03e2e3379a",
   "metadata": {},
   "outputs": [
    {
     "name": "stdout",
     "output_type": "stream",
     "text": [
      "<class 'pandas.core.frame.DataFrame'>\n",
      "Int64Index: 8296 entries, 0 to 8783\n",
      "Data columns (total 3 columns):\n",
      " #   Column  Non-Null Count  Dtype  \n",
      "---  ------  --------------  -----  \n",
      " 0   city    8296 non-null   object \n",
      " 1   puid    8296 non-null   int64  \n",
      " 2   hours   8296 non-null   float64\n",
      "dtypes: float64(1), int64(1), object(1)\n",
      "memory usage: 259.2+ KB\n"
     ]
    }
   ],
   "source": [
    "# Выводим обновленную информацию о датасете\n",
    "yandex_books.info()"
   ]
  },
  {
   "cell_type": "markdown",
   "id": "6f28b6de-a81b-4bbb-8b7a-5d173739d115",
   "metadata": {},
   "source": [
    "Итак, дубликаты удалены. Можем приступать к более глубокой оценке данных и проведению теста."
   ]
  },
  {
   "cell_type": "markdown",
   "id": "56f84f82-8865-4afe-baa0-50c10505e410",
   "metadata": {},
   "source": [
    "Изучим статистики столбца 'hours' как в целом, так и по группам, которые собираемся тестировать далее."
   ]
  },
  {
   "cell_type": "code",
   "execution_count": 15,
   "id": "82460bcf-3fdb-476c-9acc-547fabdf1dfe",
   "metadata": {},
   "outputs": [
    {
     "data": {
      "text/plain": [
       "count    8296.000000\n",
       "mean       10.963892\n",
       "std        37.753906\n",
       "min         0.000022\n",
       "25%         0.057493\n",
       "50%         0.884214\n",
       "75%         5.944675\n",
       "95%        55.625093\n",
       "99%       153.656226\n",
       "max       978.764775\n",
       "Name: hours, dtype: float64"
      ]
     },
     "execution_count": 15,
     "metadata": {},
     "output_type": "execute_result"
    }
   ],
   "source": [
    "yandex_books['hours'].describe(percentiles=[0.25, 0.5, 0.75, 0.95, 0.99])"
   ]
  },
  {
   "cell_type": "code",
   "execution_count": 16,
   "id": "87e4cca6-a3cc-45c8-9563-77ec0b6fa6c4",
   "metadata": {},
   "outputs": [
    {
     "data": {
      "text/html": [
       "<div>\n",
       "<style scoped>\n",
       "    .dataframe tbody tr th:only-of-type {\n",
       "        vertical-align: middle;\n",
       "    }\n",
       "\n",
       "    .dataframe tbody tr th {\n",
       "        vertical-align: top;\n",
       "    }\n",
       "\n",
       "    .dataframe thead th {\n",
       "        text-align: right;\n",
       "    }\n",
       "</style>\n",
       "<table border=\"1\" class=\"dataframe\">\n",
       "  <thead>\n",
       "    <tr style=\"text-align: right;\">\n",
       "      <th>city</th>\n",
       "      <th>Москва</th>\n",
       "      <th>Санкт-Петербург</th>\n",
       "    </tr>\n",
       "  </thead>\n",
       "  <tbody>\n",
       "    <tr>\n",
       "      <th>count</th>\n",
       "      <td>5990.000000</td>\n",
       "      <td>2306.000000</td>\n",
       "    </tr>\n",
       "    <tr>\n",
       "      <th>mean</th>\n",
       "      <td>10.848192</td>\n",
       "      <td>11.264433</td>\n",
       "    </tr>\n",
       "    <tr>\n",
       "      <th>std</th>\n",
       "      <td>36.925622</td>\n",
       "      <td>39.831755</td>\n",
       "    </tr>\n",
       "    <tr>\n",
       "      <th>min</th>\n",
       "      <td>0.000022</td>\n",
       "      <td>0.000025</td>\n",
       "    </tr>\n",
       "    <tr>\n",
       "      <th>25%</th>\n",
       "      <td>0.057042</td>\n",
       "      <td>0.060173</td>\n",
       "    </tr>\n",
       "    <tr>\n",
       "      <th>50%</th>\n",
       "      <td>0.888232</td>\n",
       "      <td>0.875355</td>\n",
       "    </tr>\n",
       "    <tr>\n",
       "      <th>75%</th>\n",
       "      <td>5.933439</td>\n",
       "      <td>6.138424</td>\n",
       "    </tr>\n",
       "    <tr>\n",
       "      <th>95%</th>\n",
       "      <td>54.929483</td>\n",
       "      <td>56.545642</td>\n",
       "    </tr>\n",
       "    <tr>\n",
       "      <th>99%</th>\n",
       "      <td>154.688119</td>\n",
       "      <td>146.847159</td>\n",
       "    </tr>\n",
       "    <tr>\n",
       "      <th>max</th>\n",
       "      <td>857.209373</td>\n",
       "      <td>978.764775</td>\n",
       "    </tr>\n",
       "  </tbody>\n",
       "</table>\n",
       "</div>"
      ],
      "text/plain": [
       "city        Москва  Санкт-Петербург\n",
       "count  5990.000000      2306.000000\n",
       "mean     10.848192        11.264433\n",
       "std      36.925622        39.831755\n",
       "min       0.000022         0.000025\n",
       "25%       0.057042         0.060173\n",
       "50%       0.888232         0.875355\n",
       "75%       5.933439         6.138424\n",
       "95%      54.929483        56.545642\n",
       "99%     154.688119       146.847159\n",
       "max     857.209373       978.764775"
      ]
     },
     "execution_count": 16,
     "metadata": {},
     "output_type": "execute_result"
    }
   ],
   "source": [
    "yandex_books.groupby('city')['hours'].describe(percentiles=[0.25, 0.5, 0.75, 0.95, 0.99]).transpose()"
   ]
  },
  {
   "cell_type": "markdown",
   "id": "e85189e6-d967-4b41-b7f6-6d1dc7e3c33b",
   "metadata": {},
   "source": [
    "Как можно увидеть по выведенным значениям\n",
    "1. Распределение значений столбца 'hours' имеет тяжелый правый хвост как на тотале, так и по группам\n",
    "2. Для обеих групп наблюдаются очевидные выбросы выше 99-го перцентиля *(MAX 857 для Москвы и 979 для Питера при 75-ом перцентиле около 6-ти)*, что влияет на распределение среднего и может помешать применению, например t-теста Стьюдента.\n",
    "\n",
    "Такие выбросы стоит удалить."
   ]
  },
  {
   "cell_type": "code",
   "execution_count": 17,
   "id": "e7a982aa-f44c-4077-9f8b-68293da1266c",
   "metadata": {},
   "outputs": [],
   "source": [
    "# Удаляем выбросы выше 99-го перцентиля\n",
    "yandex_books = yandex_books.loc[yandex_books['hours'] <= yandex_books['hours'].quantile(0.99)]"
   ]
  },
  {
   "cell_type": "code",
   "execution_count": 18,
   "id": "8e310c86-5de8-4a60-89de-5d88600f0c20",
   "metadata": {},
   "outputs": [
    {
     "data": {
      "text/html": [
       "<div>\n",
       "<style scoped>\n",
       "    .dataframe tbody tr th:only-of-type {\n",
       "        vertical-align: middle;\n",
       "    }\n",
       "\n",
       "    .dataframe tbody tr th {\n",
       "        vertical-align: top;\n",
       "    }\n",
       "\n",
       "    .dataframe thead th {\n",
       "        text-align: right;\n",
       "    }\n",
       "</style>\n",
       "<table border=\"1\" class=\"dataframe\">\n",
       "  <thead>\n",
       "    <tr style=\"text-align: right;\">\n",
       "      <th>city</th>\n",
       "      <th>Москва</th>\n",
       "      <th>Санкт-Петербург</th>\n",
       "    </tr>\n",
       "  </thead>\n",
       "  <tbody>\n",
       "    <tr>\n",
       "      <th>count</th>\n",
       "      <td>5929.000000</td>\n",
       "      <td>2284.000000</td>\n",
       "    </tr>\n",
       "    <tr>\n",
       "      <th>mean</th>\n",
       "      <td>8.064964</td>\n",
       "      <td>8.377901</td>\n",
       "    </tr>\n",
       "    <tr>\n",
       "      <th>std</th>\n",
       "      <td>19.733973</td>\n",
       "      <td>19.723539</td>\n",
       "    </tr>\n",
       "    <tr>\n",
       "      <th>min</th>\n",
       "      <td>0.000022</td>\n",
       "      <td>0.000025</td>\n",
       "    </tr>\n",
       "    <tr>\n",
       "      <th>25%</th>\n",
       "      <td>0.055492</td>\n",
       "      <td>0.057032</td>\n",
       "    </tr>\n",
       "    <tr>\n",
       "      <th>50%</th>\n",
       "      <td>0.856322</td>\n",
       "      <td>0.852310</td>\n",
       "    </tr>\n",
       "    <tr>\n",
       "      <th>75%</th>\n",
       "      <td>5.639621</td>\n",
       "      <td>5.672186</td>\n",
       "    </tr>\n",
       "    <tr>\n",
       "      <th>95%</th>\n",
       "      <td>45.257274</td>\n",
       "      <td>46.474395</td>\n",
       "    </tr>\n",
       "    <tr>\n",
       "      <th>99%</th>\n",
       "      <td>111.690496</td>\n",
       "      <td>104.748780</td>\n",
       "    </tr>\n",
       "    <tr>\n",
       "      <th>max</th>\n",
       "      <td>153.639891</td>\n",
       "      <td>152.338086</td>\n",
       "    </tr>\n",
       "  </tbody>\n",
       "</table>\n",
       "</div>"
      ],
      "text/plain": [
       "city        Москва  Санкт-Петербург\n",
       "count  5929.000000      2284.000000\n",
       "mean      8.064964         8.377901\n",
       "std      19.733973        19.723539\n",
       "min       0.000022         0.000025\n",
       "25%       0.055492         0.057032\n",
       "50%       0.856322         0.852310\n",
       "75%       5.639621         5.672186\n",
       "95%      45.257274        46.474395\n",
       "99%     111.690496       104.748780\n",
       "max     153.639891       152.338086"
      ]
     },
     "execution_count": 18,
     "metadata": {},
     "output_type": "execute_result"
    }
   ],
   "source": [
    "# Выводим статистики для очищенных данных\n",
    "yandex_books.groupby('city')['hours'].describe(percentiles=[0.25, 0.5, 0.75, 0.95, 0.99]).transpose()"
   ]
  },
  {
   "cell_type": "markdown",
   "id": "6654a6b0-3855-423e-9d0e-bb4963deaa5c",
   "metadata": {},
   "source": [
    "Данные были очищены, а статистики соответственно поменялись.\n",
    "\n",
    "- Число наблюдений в Москве составляет **5929**, а в Санкт-Петербурге **2284**. Разница выборок большая, но, учитывая, что обе выборки значительно превосходят положенные ЦПТ 30 наблюдений, уравнивать группы в данном случае не будем.\n",
    "- Стандартное отклонение для обеих групп выровнялось и составляет на данный момент **19,7** против 36,9 для Москвы и 39,8 для Петербурга ранее. Можно говорить о равенстве дисперсий (квардрат std)"
   ]
  },
  {
   "cell_type": "markdown",
   "id": "cc2c0b2f-3035-43a9-a86e-5d3e60633a17",
   "metadata": {},
   "source": [
    "Посмотрим на визуальное распределение значений столбца прослушиваний 'hours' для Москвы и Санкт-Петербурга."
   ]
  },
  {
   "cell_type": "code",
   "execution_count": 19,
   "id": "9cdb15d0-a627-4f7e-8604-eb721c7b0f1a",
   "metadata": {},
   "outputs": [
    {
     "data": {
      "image/png": "[encoded data removed]",
      "text/plain": [
       "<Figure size 576x288 with 1 Axes>"
      ]
     },
     "metadata": {
      "needs_background": "light"
     },
     "output_type": "display_data"
    }
   ],
   "source": [
    "plt.figure(figsize=(8, 4))\n",
    "\n",
    "for i in yandex_books['city'].unique():\n",
    "    yandex_books.loc[yandex_books['city'] == i, 'hours'].plot(\n",
    "        kind='hist',\n",
    "        density=True,\n",
    "        bins=50,\n",
    "        alpha=0.5,\n",
    "        label=f'{i}',\n",
    "        legend=True\n",
    "    )\n",
    "\n",
    "# Настраиваем внешний вид графика и выводим его на экран\n",
    "plt.title(f'Сравнение распределения длины прослушиваний по городам')\n",
    "plt.xlabel('Длина прослушивания')\n",
    "plt.ylabel('Плотность вероятности')\n",
    "plt.legend(title='Город')\n",
    "plt.show()"
   ]
  },
  {
   "cell_type": "markdown",
   "id": "200b6700-04fc-4dbb-b5c2-2b02743232ca",
   "metadata": {},
   "source": [
    "Как видно по построенному графику с распределением числа уникальных сессий по дням, динамики для тестовой и контрольной группы имеют очень схожий рисунок. Распределение действительно сильно скошено вправо, но очевидные выбросы были ранее удалены."
   ]
  },
  {
   "cell_type": "markdown",
   "id": "956e82e2",
   "metadata": {
    "id": "956e82e2"
   },
   "source": [
    "## 2. Проверка гипотезы в Python\n",
    "\n",
    "Гипотеза звучит так: пользователи из Санкт-Петербурга проводят в среднем больше времени за чтением и прослушиванием книг в приложении, чем пользователи из Москвы.\n",
    "\n",
    "- Нулевая гипотеза H₀: Средняя активность пользователей в часах в двух группах (Москва и Санкт-Петербург) не различается.\n",
    "\n",
    "- Альтернативная гипотеза H₁: Средняя активность пользователей в Санкт-Петербурге больше, и это различие статистически значимо."
   ]
  },
  {
   "cell_type": "markdown",
   "id": "f0a1600c",
   "metadata": {},
   "source": [
    "Подводя итог предобработке данных, можно сказать, что мы собрали достаточно оснований для проверки гипотезы проекта с помощью наиболее распространенного `t-теста Стьюдента`, который позволяет оценить степень различия средних двух выборок.\n",
    "\n",
    "- Независимость выборок:  \n",
    "Были удалены пользователи, у которых были прослушивания в обоих городах. Выборки независимы\n",
    "- Нормальность распределения среднего:\n",
    "Удалены выбросы, которые могли повлиять на распределение среднего. И согласно ЦПТ при достаточно большом объёме выборки ***среднее значение этой выборки будет распределяться нормально***. Нормальность же распределения самой величины не является условием применения t-теста\n",
    "- Гомогенность дисперсий:\n",
    "После проведенных преобразований стандартное отклонение, а, значит, и дисперсия для обеих выборок, равны\n",
    "- Размер выборок: \n",
    "Выборки имеют достаточно наблюдений"
   ]
  },
  {
   "cell_type": "code",
   "execution_count": 20,
   "id": "67956690",
   "metadata": {
    "id": "67956690"
   },
   "outputs": [
    {
     "name": "stdout",
     "output_type": "stream",
     "text": [
      "p-value теста Стьюдента = 0.26\n",
      "Нулевая гипотеза находит подтверждение! Выборочные средние в группах A и B равны\n"
     ]
    }
   ],
   "source": [
    "# Проверка гипотезы с помощью классического теста Стьюдента\n",
    "metric_a = yandex_books['hours'].loc[yandex_books['city'] == 'Санкт-Петербург'] ## выборка целевой метрики для группы A\n",
    "metric_b = yandex_books['hours'].loc[yandex_books['city'] == 'Москва']## выборка целевой метрики для группы B\n",
    "\n",
    "alpha = 0.05\n",
    "\n",
    "stat_ttest, p_value_ttest = ttest_ind(\n",
    "    metric_a, \n",
    "    metric_b, \n",
    "    alternative='greater' ## поскольку альтернативная гипотеза о том, что выборочное среднее первой выборки(metric_a) больше второй выборки\n",
    ")\n",
    "\n",
    "if p_value_ttest>alpha:\n",
    "    print(f'p-value теста Стьюдента = {round(p_value_ttest, 2)}')\n",
    "    print('Нулевая гипотеза находит подтверждение! Выборочные средние в группах A и B равны')\n",
    "else:\n",
    "    print(f'p-value теста Стьюдента ={round(p_value_ttest, 2)}')\n",
    "    print('Нулевая гипотеза не находит подтверждения! Выборочные средние в группах A и B не равны, и в группе B больше')"
   ]
  },
  {
   "cell_type": "markdown",
   "id": "6953e84c",
   "metadata": {
    "id": "6953e84c"
   },
   "source": [
    "## 3. Аналитическая записка\n"
   ]
  },
  {
   "cell_type": "markdown",
   "id": "76875128-0dda-4bfe-9732-f2db62053d79",
   "metadata": {},
   "source": [
    "Эксперимент проводился с `1 сентября` по `11 декабря 2024 года` с участием `2 284` пользователей в группе \"a\" **Санкт-Петербург** и `5 929` пользователей в тестовой группе \"b\" **Москва**.\n",
    "\n",
    "В ходе предварительного анализа метрик приложения было выявлено статистически значимое различие в LTV между пользователями из Санкт-Петербурга и Москвы. Данный факт требовал дополнительного исследования для подтверждения гипотезы о различии в поведении пользователей двух крупнейших городов России.\n",
    "\n",
    "Поскольку значение `p-value` (`0.26`) значительно превышает заданный уровень значимости (`0.05`), мы не можем отвергнуть нулевую гипотезу. Это означает, что статистически значимых различий в среднем времени взаимодействия с контентом приложения между пользователями из Санкт-Петербурга и Москвы не обнаружено.\n",
    "\n",
    "**Возможные причины отсутствия значимых различий**:\n",
    "- Поведенческий фактор: на поведение пользователей могут влиять дополнительные факторы (возраст, доход, образование), которые не были учтены в анализе\n",
    "- Временной фактор: различия в поведении могли быть временными и не проявились в рассматриваемом периоде\n",
    "- Особенности продукта: приложение может быть одинаково привлекательным для обеих аудиторий, что нивелирует региональные различия"
   ]
  },
  {
   "cell_type": "markdown",
   "id": "hc1d6jVISegz",
   "metadata": {
    "id": "hc1d6jVISegz"
   },
   "source": [
    "----"
   ]
  },
  {
   "cell_type": "markdown",
   "id": "NqOUIYhbrIfC",
   "metadata": {
    "id": "NqOUIYhbrIfC"
   },
   "source": [
    "# Часть 2. Анализ результатов A/B-тестирования"
   ]
  },
  {
   "cell_type": "markdown",
   "id": "UNXAAyF5r9Rk",
   "metadata": {
    "id": "UNXAAyF5r9Rk"
   },
   "source": [
    "## 1. Цели исследования"
   ]
  },
  {
   "cell_type": "markdown",
   "id": "kHx-51yES8bd",
   "metadata": {
    "id": "kHx-51yES8bd"
   },
   "source": [
    "- Подготовить данные для проведения теста\n",
    "\n",
    "- Сравнить конверсию в покупку между группами\n",
    "\n",
    "- Определить, стоит ли запускать новую версию сайта"
   ]
  },
  {
   "cell_type": "markdown",
   "id": "_CZryx2OsH-s",
   "metadata": {
    "id": "_CZryx2OsH-s"
   },
   "source": [
    "## 2. Загрузка данных, оценка их целостности\n"
   ]
  },
  {
   "cell_type": "code",
   "execution_count": 21,
   "id": "DjFcJbeGsTIg",
   "metadata": {
    "id": "DjFcJbeGsTIg"
   },
   "outputs": [],
   "source": [
    "participants = pd.read_csv('https://code.s3.yandex.net/datasets/ab_test_participants.csv')\n",
    "events = pd.read_csv('https://code.s3.yandex.net/datasets/ab_test_events.zip',\n",
    "                     parse_dates=['event_dt'], low_memory=False)"
   ]
  },
  {
   "cell_type": "markdown",
   "id": "CnzA-efasUrk",
   "metadata": {
    "id": "CnzA-efasUrk"
   },
   "source": [
    "## 3. Оценка корректности проведения теста"
   ]
  },
  {
   "cell_type": "code",
   "execution_count": 22,
   "id": "aNa3zHrKslEN",
   "metadata": {
    "id": "aNa3zHrKslEN"
   },
   "outputs": [
    {
     "data": {
      "text/html": [
       "<div>\n",
       "<style scoped>\n",
       "    .dataframe tbody tr th:only-of-type {\n",
       "        vertical-align: middle;\n",
       "    }\n",
       "\n",
       "    .dataframe tbody tr th {\n",
       "        vertical-align: top;\n",
       "    }\n",
       "\n",
       "    .dataframe thead th {\n",
       "        text-align: right;\n",
       "    }\n",
       "</style>\n",
       "<table border=\"1\" class=\"dataframe\">\n",
       "  <thead>\n",
       "    <tr style=\"text-align: right;\">\n",
       "      <th></th>\n",
       "      <th>user_id</th>\n",
       "      <th>group</th>\n",
       "      <th>ab_test</th>\n",
       "      <th>device</th>\n",
       "    </tr>\n",
       "  </thead>\n",
       "  <tbody>\n",
       "    <tr>\n",
       "      <th>0</th>\n",
       "      <td>0002CE61FF2C4011</td>\n",
       "      <td>B</td>\n",
       "      <td>interface_eu_test</td>\n",
       "      <td>Mac</td>\n",
       "    </tr>\n",
       "    <tr>\n",
       "      <th>1</th>\n",
       "      <td>001064FEAAB631A1</td>\n",
       "      <td>B</td>\n",
       "      <td>recommender_system_test</td>\n",
       "      <td>Android</td>\n",
       "    </tr>\n",
       "    <tr>\n",
       "      <th>2</th>\n",
       "      <td>001064FEAAB631A1</td>\n",
       "      <td>A</td>\n",
       "      <td>interface_eu_test</td>\n",
       "      <td>Android</td>\n",
       "    </tr>\n",
       "    <tr>\n",
       "      <th>3</th>\n",
       "      <td>0010A1C096941592</td>\n",
       "      <td>A</td>\n",
       "      <td>recommender_system_test</td>\n",
       "      <td>Android</td>\n",
       "    </tr>\n",
       "    <tr>\n",
       "      <th>4</th>\n",
       "      <td>001E72F50D1C48FA</td>\n",
       "      <td>A</td>\n",
       "      <td>interface_eu_test</td>\n",
       "      <td>Mac</td>\n",
       "    </tr>\n",
       "  </tbody>\n",
       "</table>\n",
       "</div>"
      ],
      "text/plain": [
       "            user_id group                  ab_test   device\n",
       "0  0002CE61FF2C4011     B        interface_eu_test      Mac\n",
       "1  001064FEAAB631A1     B  recommender_system_test  Android\n",
       "2  001064FEAAB631A1     A        interface_eu_test  Android\n",
       "3  0010A1C096941592     A  recommender_system_test  Android\n",
       "4  001E72F50D1C48FA     A        interface_eu_test      Mac"
      ]
     },
     "execution_count": 22,
     "metadata": {},
     "output_type": "execute_result"
    }
   ],
   "source": [
    "# Выводим первые строки таблицы participants\n",
    "participants.head()"
   ]
  },
  {
   "cell_type": "code",
   "execution_count": 23,
   "id": "b7f53dba-b7e5-416e-9134-0448cba05943",
   "metadata": {},
   "outputs": [
    {
     "data": {
      "text/plain": [
       "array(['interface_eu_test', 'recommender_system_test'], dtype=object)"
      ]
     },
     "execution_count": 23,
     "metadata": {},
     "output_type": "execute_result"
    }
   ],
   "source": [
    "participants['ab_test'].unique()"
   ]
  },
  {
   "cell_type": "markdown",
   "id": "ac29a8ae-627f-48f3-8db1-54a52c101734",
   "metadata": {},
   "source": [
    "Сиходная таблица с участниками тестов содержит информацию о 2-х проходивших тестах. Нужный нам тест имеет название 'interface_eu_test'. Проверим наличие дубликатов пользователей внутри нужного теста, а также внутри таблицы."
   ]
  },
  {
   "cell_type": "code",
   "execution_count": 24,
   "id": "fd696f9d-b4c1-47d5-857c-f3ca87053de1",
   "metadata": {},
   "outputs": [
    {
     "data": {
      "text/plain": [
       "0"
      ]
     },
     "execution_count": 24,
     "metadata": {},
     "output_type": "execute_result"
    }
   ],
   "source": [
    "participants['user_id'].loc[participants['ab_test'] == 'interface_eu_test'].duplicated().sum()"
   ]
  },
  {
   "cell_type": "code",
   "execution_count": 25,
   "id": "e20d7358-6fb1-475c-9e33-e950cddfc2d7",
   "metadata": {},
   "outputs": [
    {
     "data": {
      "text/plain": [
       "887"
      ]
     },
     "execution_count": 25,
     "metadata": {},
     "output_type": "execute_result"
    }
   ],
   "source": [
    "participants['user_id'].duplicated().sum()"
   ]
  },
  {
   "cell_type": "markdown",
   "id": "7c875cd0-2997-4291-847f-2a0d174e3eb4",
   "metadata": {},
   "source": [
    "Как видно по выводам кода, 887 пользователей стали участниками обоих тестов. Так как по техническому заданию нам необходимо удалить таких участников (на их поведение мог повлиять параллельно проводящий тест), просто полностью удалим этих пользователей."
   ]
  },
  {
   "cell_type": "code",
   "execution_count": 26,
   "id": "37ae89b4-70c0-4d31-af7b-5b5b7f933b27",
   "metadata": {},
   "outputs": [],
   "source": [
    "participants = participants.drop_duplicates(subset='user_id', keep = False)"
   ]
  },
  {
   "cell_type": "code",
   "execution_count": 27,
   "id": "98093425-d254-4857-945c-6fe0c1b44ae0",
   "metadata": {},
   "outputs": [
    {
     "name": "stdout",
     "output_type": "stream",
     "text": [
      "<class 'pandas.core.frame.DataFrame'>\n",
      "Int64Index: 9963 entries, 0 to 14524\n",
      "Data columns (total 3 columns):\n",
      " #   Column   Non-Null Count  Dtype \n",
      "---  ------   --------------  ----- \n",
      " 0   user_id  9963 non-null   object\n",
      " 1   group    9963 non-null   object\n",
      " 2   device   9963 non-null   object\n",
      "dtypes: object(3)\n",
      "memory usage: 311.3+ KB\n"
     ]
    }
   ],
   "source": [
    "# Фильтруем датасет, оставляя только нужных пользователей теста 'interface_eu_test'\n",
    "participants = participants[['user_id','group','device']].loc[participants['ab_test'] == 'interface_eu_test']\n",
    "participants.info()"
   ]
  },
  {
   "cell_type": "markdown",
   "id": "1bef563a-9d82-46b1-ac9b-e2d743ce0b65",
   "metadata": {},
   "source": [
    "По итогу мы получили очищенную таблицу 'participants' с 3-мя колонками. Столбец содержит данные о 9963 участниках теста без дубликатов. Пропусков ни в одном из столбцов нет."
   ]
  },
  {
   "cell_type": "code",
   "execution_count": 28,
   "id": "ef3ece4a-72fc-43c2-8109-7a31ba703da3",
   "metadata": {},
   "outputs": [
    {
     "data": {
      "text/plain": [
       "group\n",
       "A    4952\n",
       "B    5011\n",
       "Name: user_id, dtype: int64"
      ]
     },
     "execution_count": 28,
     "metadata": {},
     "output_type": "execute_result"
    }
   ],
   "source": [
    "participants.groupby('group')['user_id'].count()"
   ]
  },
  {
   "cell_type": "markdown",
   "id": "79bd34d6-383c-429d-849d-e23973edaa4e",
   "metadata": {},
   "source": [
    "Пользователи распределены по группам достаточно равномерно."
   ]
  },
  {
   "cell_type": "markdown",
   "id": "GjulgSrlsqUU",
   "metadata": {
    "id": "GjulgSrlsqUU"
   },
   "source": [
    "3\\.2 Проанализируйте данные о пользовательской активности по таблице `ab_test_events`:\n",
    "\n",
    "- оставьте только события, связанные с участвующими в изучаемом тесте пользователями;"
   ]
  },
  {
   "cell_type": "markdown",
   "id": "b75453be-2213-449c-b786-871051d7fcfd",
   "metadata": {},
   "source": [
    "Изучим данные таблицы 'events' с событиями."
   ]
  },
  {
   "cell_type": "code",
   "execution_count": 29,
   "id": "1e730245-6665-4437-9f84-d00ebb191f92",
   "metadata": {},
   "outputs": [
    {
     "data": {
      "text/html": [
       "<div>\n",
       "<style scoped>\n",
       "    .dataframe tbody tr th:only-of-type {\n",
       "        vertical-align: middle;\n",
       "    }\n",
       "\n",
       "    .dataframe tbody tr th {\n",
       "        vertical-align: top;\n",
       "    }\n",
       "\n",
       "    .dataframe thead th {\n",
       "        text-align: right;\n",
       "    }\n",
       "</style>\n",
       "<table border=\"1\" class=\"dataframe\">\n",
       "  <thead>\n",
       "    <tr style=\"text-align: right;\">\n",
       "      <th></th>\n",
       "      <th>user_id</th>\n",
       "      <th>event_dt</th>\n",
       "      <th>event_name</th>\n",
       "      <th>details</th>\n",
       "    </tr>\n",
       "  </thead>\n",
       "  <tbody>\n",
       "    <tr>\n",
       "      <th>0</th>\n",
       "      <td>GLOBAL</td>\n",
       "      <td>2020-12-01 00:00:00</td>\n",
       "      <td>End of Black Friday Ads Campaign</td>\n",
       "      <td>ZONE_CODE15</td>\n",
       "    </tr>\n",
       "    <tr>\n",
       "      <th>1</th>\n",
       "      <td>CCBE9E7E99F94A08</td>\n",
       "      <td>2020-12-01 00:00:11</td>\n",
       "      <td>registration</td>\n",
       "      <td>0.0</td>\n",
       "    </tr>\n",
       "    <tr>\n",
       "      <th>2</th>\n",
       "      <td>GLOBAL</td>\n",
       "      <td>2020-12-01 00:00:25</td>\n",
       "      <td>product_page</td>\n",
       "      <td>NaN</td>\n",
       "    </tr>\n",
       "    <tr>\n",
       "      <th>3</th>\n",
       "      <td>CCBE9E7E99F94A08</td>\n",
       "      <td>2020-12-01 00:00:33</td>\n",
       "      <td>login</td>\n",
       "      <td>NaN</td>\n",
       "    </tr>\n",
       "    <tr>\n",
       "      <th>4</th>\n",
       "      <td>CCBE9E7E99F94A08</td>\n",
       "      <td>2020-12-01 00:00:52</td>\n",
       "      <td>product_page</td>\n",
       "      <td>NaN</td>\n",
       "    </tr>\n",
       "  </tbody>\n",
       "</table>\n",
       "</div>"
      ],
      "text/plain": [
       "            user_id            event_dt                        event_name  \\\n",
       "0            GLOBAL 2020-12-01 00:00:00  End of Black Friday Ads Campaign   \n",
       "1  CCBE9E7E99F94A08 2020-12-01 00:00:11                      registration   \n",
       "2            GLOBAL 2020-12-01 00:00:25                      product_page   \n",
       "3  CCBE9E7E99F94A08 2020-12-01 00:00:33                             login   \n",
       "4  CCBE9E7E99F94A08 2020-12-01 00:00:52                      product_page   \n",
       "\n",
       "       details  \n",
       "0  ZONE_CODE15  \n",
       "1          0.0  \n",
       "2          NaN  \n",
       "3          NaN  \n",
       "4          NaN  "
      ]
     },
     "execution_count": 29,
     "metadata": {},
     "output_type": "execute_result"
    }
   ],
   "source": [
    "events.head()"
   ]
  },
  {
   "cell_type": "code",
   "execution_count": 30,
   "id": "bb993c6f-bb6c-404f-ac67-e2d150409dca",
   "metadata": {},
   "outputs": [
    {
     "name": "stdout",
     "output_type": "stream",
     "text": [
      "<class 'pandas.core.frame.DataFrame'>\n",
      "RangeIndex: 787286 entries, 0 to 787285\n",
      "Data columns (total 4 columns):\n",
      " #   Column      Non-Null Count   Dtype         \n",
      "---  ------      --------------   -----         \n",
      " 0   user_id     787286 non-null  object        \n",
      " 1   event_dt    787286 non-null  datetime64[ns]\n",
      " 2   event_name  787286 non-null  object        \n",
      " 3   details     249022 non-null  object        \n",
      "dtypes: datetime64[ns](1), object(3)\n",
      "memory usage: 24.0+ MB\n"
     ]
    }
   ],
   "source": [
    "events.info()"
   ]
  },
  {
   "cell_type": "markdown",
   "id": "1ea6ac13-13d8-44dd-8d8f-b2b99293ef03",
   "metadata": {},
   "source": [
    "Таблица содержит 787 286 строк, дубликаты есть только в столбце 'details', который не пригодится нам в анализе. Проверим данные на дублирование."
   ]
  },
  {
   "cell_type": "code",
   "execution_count": 31,
   "id": "44289e14-17eb-41de-a589-31ff64ee7dab",
   "metadata": {
    "jupyter": {
     "source_hidden": true
    }
   },
   "outputs": [
    {
     "data": {
      "text/plain": [
       "36318"
      ]
     },
     "execution_count": 31,
     "metadata": {},
     "output_type": "execute_result"
    }
   ],
   "source": [
    "events.duplicated().sum()"
   ]
  },
  {
   "cell_type": "markdown",
   "id": "1506be79-248b-4bbe-b4a5-fa0987b875a1",
   "metadata": {},
   "source": [
    "В таблице есть 36 318 полных дубликатов строк, удалим их."
   ]
  },
  {
   "cell_type": "code",
   "execution_count": 32,
   "id": "c263642e-311d-4085-9142-030e535005f8",
   "metadata": {},
   "outputs": [],
   "source": [
    "events = events.drop_duplicates()"
   ]
  },
  {
   "cell_type": "markdown",
   "id": "18c61206-0e2e-475e-a442-500060f0106a",
   "metadata": {},
   "source": [
    "Закончив с подготовкой данных, объединим таблицы с участниками и событиями по левому соединению, т.е. оставив события только участников A/B теста с интерфейсом."
   ]
  },
  {
   "cell_type": "code",
   "execution_count": 33,
   "id": "QMt0Ybo_swDK",
   "metadata": {
    "id": "QMt0Ybo_swDK"
   },
   "outputs": [
    {
     "data": {
      "text/html": [
       "<div>\n",
       "<style scoped>\n",
       "    .dataframe tbody tr th:only-of-type {\n",
       "        vertical-align: middle;\n",
       "    }\n",
       "\n",
       "    .dataframe tbody tr th {\n",
       "        vertical-align: top;\n",
       "    }\n",
       "\n",
       "    .dataframe thead th {\n",
       "        text-align: right;\n",
       "    }\n",
       "</style>\n",
       "<table border=\"1\" class=\"dataframe\">\n",
       "  <thead>\n",
       "    <tr style=\"text-align: right;\">\n",
       "      <th></th>\n",
       "      <th>user_id</th>\n",
       "      <th>group</th>\n",
       "      <th>device</th>\n",
       "      <th>event_dt</th>\n",
       "      <th>event_name</th>\n",
       "      <th>details</th>\n",
       "    </tr>\n",
       "  </thead>\n",
       "  <tbody>\n",
       "    <tr>\n",
       "      <th>0</th>\n",
       "      <td>0002CE61FF2C4011</td>\n",
       "      <td>B</td>\n",
       "      <td>Mac</td>\n",
       "      <td>2020-12-07 04:37:31</td>\n",
       "      <td>registration</td>\n",
       "      <td>-2.38</td>\n",
       "    </tr>\n",
       "    <tr>\n",
       "      <th>1</th>\n",
       "      <td>0002CE61FF2C4011</td>\n",
       "      <td>B</td>\n",
       "      <td>Mac</td>\n",
       "      <td>2020-12-07 04:37:49</td>\n",
       "      <td>login</td>\n",
       "      <td>NaN</td>\n",
       "    </tr>\n",
       "    <tr>\n",
       "      <th>2</th>\n",
       "      <td>0002CE61FF2C4011</td>\n",
       "      <td>B</td>\n",
       "      <td>Mac</td>\n",
       "      <td>2020-12-07 04:37:57</td>\n",
       "      <td>login</td>\n",
       "      <td>NaN</td>\n",
       "    </tr>\n",
       "    <tr>\n",
       "      <th>3</th>\n",
       "      <td>0002CE61FF2C4011</td>\n",
       "      <td>B</td>\n",
       "      <td>Mac</td>\n",
       "      <td>2020-12-07 04:38:54</td>\n",
       "      <td>login</td>\n",
       "      <td>NaN</td>\n",
       "    </tr>\n",
       "    <tr>\n",
       "      <th>4</th>\n",
       "      <td>0002CE61FF2C4011</td>\n",
       "      <td>B</td>\n",
       "      <td>Mac</td>\n",
       "      <td>2020-12-08 22:15:35</td>\n",
       "      <td>login</td>\n",
       "      <td>NaN</td>\n",
       "    </tr>\n",
       "  </tbody>\n",
       "</table>\n",
       "</div>"
      ],
      "text/plain": [
       "            user_id group device            event_dt    event_name details\n",
       "0  0002CE61FF2C4011     B    Mac 2020-12-07 04:37:31  registration   -2.38\n",
       "1  0002CE61FF2C4011     B    Mac 2020-12-07 04:37:49         login     NaN\n",
       "2  0002CE61FF2C4011     B    Mac 2020-12-07 04:37:57         login     NaN\n",
       "3  0002CE61FF2C4011     B    Mac 2020-12-07 04:38:54         login     NaN\n",
       "4  0002CE61FF2C4011     B    Mac 2020-12-08 22:15:35         login     NaN"
      ]
     },
     "execution_count": 33,
     "metadata": {},
     "output_type": "execute_result"
    }
   ],
   "source": [
    "ab_test_events = participants.merge(events,on='user_id',how='left')\n",
    "ab_test_events.head()"
   ]
  },
  {
   "cell_type": "code",
   "execution_count": 34,
   "id": "7e12fb87-29bc-420f-a013-7389f5d41955",
   "metadata": {},
   "outputs": [
    {
     "name": "stdout",
     "output_type": "stream",
     "text": [
      "<class 'pandas.core.frame.DataFrame'>\n",
      "Int64Index: 68074 entries, 0 to 68073\n",
      "Data columns (total 6 columns):\n",
      " #   Column      Non-Null Count  Dtype         \n",
      "---  ------      --------------  -----         \n",
      " 0   user_id     68074 non-null  object        \n",
      " 1   group       68074 non-null  object        \n",
      " 2   device      68074 non-null  object        \n",
      " 3   event_dt    68074 non-null  datetime64[ns]\n",
      " 4   event_name  68074 non-null  object        \n",
      " 5   details     18864 non-null  object        \n",
      "dtypes: datetime64[ns](1), object(5)\n",
      "memory usage: 3.6+ MB\n"
     ]
    }
   ],
   "source": [
    "ab_test_events.info()"
   ]
  },
  {
   "cell_type": "markdown",
   "id": "1fe18daa-1555-4e3d-ad2b-0f26bc40c1b2",
   "metadata": {},
   "source": [
    "Итоговая таблица `ab_test_events` содержит 68 074 строк с пропусками только в столбце 'details'."
   ]
  },
  {
   "cell_type": "markdown",
   "id": "fBZ4DC2xswZJ",
   "metadata": {
    "id": "fBZ4DC2xswZJ"
   },
   "source": [
    "- определите горизонт анализа: рассчитайте время (лайфтайм) совершения события пользователем после регистрации и оставьте только те события, которые были выполнены в течение первых семи дней с момента регистрации;"
   ]
  },
  {
   "cell_type": "code",
   "execution_count": 35,
   "id": "sES4-dKts0Yb",
   "metadata": {
    "id": "sES4-dKts0Yb"
   },
   "outputs": [],
   "source": [
    "# Создадим отдельную таблицу с пользовательским id и датой регистрации\n",
    "reg_date = ab_test_events[['user_id','event_dt']].loc[ab_test_events['event_name'] == 'registration']\n",
    "reg_date = reg_date.rename(columns={'event_dt': 'reg_dt'})"
   ]
  },
  {
   "cell_type": "code",
   "execution_count": 36,
   "id": "c62f83f5-0087-423f-b1b0-25cdb5e46f4f",
   "metadata": {},
   "outputs": [
    {
     "data": {
      "text/html": [
       "<div>\n",
       "<style scoped>\n",
       "    .dataframe tbody tr th:only-of-type {\n",
       "        vertical-align: middle;\n",
       "    }\n",
       "\n",
       "    .dataframe tbody tr th {\n",
       "        vertical-align: top;\n",
       "    }\n",
       "\n",
       "    .dataframe thead th {\n",
       "        text-align: right;\n",
       "    }\n",
       "</style>\n",
       "<table border=\"1\" class=\"dataframe\">\n",
       "  <thead>\n",
       "    <tr style=\"text-align: right;\">\n",
       "      <th></th>\n",
       "      <th>user_id</th>\n",
       "      <th>group</th>\n",
       "      <th>device</th>\n",
       "      <th>event_dt</th>\n",
       "      <th>event_name</th>\n",
       "      <th>details</th>\n",
       "      <th>reg_dt</th>\n",
       "    </tr>\n",
       "  </thead>\n",
       "  <tbody>\n",
       "    <tr>\n",
       "      <th>0</th>\n",
       "      <td>0002CE61FF2C4011</td>\n",
       "      <td>B</td>\n",
       "      <td>Mac</td>\n",
       "      <td>2020-12-07 04:37:31</td>\n",
       "      <td>registration</td>\n",
       "      <td>-2.38</td>\n",
       "      <td>2020-12-07 04:37:31</td>\n",
       "    </tr>\n",
       "    <tr>\n",
       "      <th>1</th>\n",
       "      <td>0002CE61FF2C4011</td>\n",
       "      <td>B</td>\n",
       "      <td>Mac</td>\n",
       "      <td>2020-12-07 04:37:49</td>\n",
       "      <td>login</td>\n",
       "      <td>NaN</td>\n",
       "      <td>2020-12-07 04:37:31</td>\n",
       "    </tr>\n",
       "    <tr>\n",
       "      <th>2</th>\n",
       "      <td>0002CE61FF2C4011</td>\n",
       "      <td>B</td>\n",
       "      <td>Mac</td>\n",
       "      <td>2020-12-07 04:37:57</td>\n",
       "      <td>login</td>\n",
       "      <td>NaN</td>\n",
       "      <td>2020-12-07 04:37:31</td>\n",
       "    </tr>\n",
       "    <tr>\n",
       "      <th>3</th>\n",
       "      <td>0002CE61FF2C4011</td>\n",
       "      <td>B</td>\n",
       "      <td>Mac</td>\n",
       "      <td>2020-12-07 04:38:54</td>\n",
       "      <td>login</td>\n",
       "      <td>NaN</td>\n",
       "      <td>2020-12-07 04:37:31</td>\n",
       "    </tr>\n",
       "    <tr>\n",
       "      <th>4</th>\n",
       "      <td>0002CE61FF2C4011</td>\n",
       "      <td>B</td>\n",
       "      <td>Mac</td>\n",
       "      <td>2020-12-08 22:15:35</td>\n",
       "      <td>login</td>\n",
       "      <td>NaN</td>\n",
       "      <td>2020-12-07 04:37:31</td>\n",
       "    </tr>\n",
       "  </tbody>\n",
       "</table>\n",
       "</div>"
      ],
      "text/plain": [
       "            user_id group device            event_dt    event_name details  \\\n",
       "0  0002CE61FF2C4011     B    Mac 2020-12-07 04:37:31  registration   -2.38   \n",
       "1  0002CE61FF2C4011     B    Mac 2020-12-07 04:37:49         login     NaN   \n",
       "2  0002CE61FF2C4011     B    Mac 2020-12-07 04:37:57         login     NaN   \n",
       "3  0002CE61FF2C4011     B    Mac 2020-12-07 04:38:54         login     NaN   \n",
       "4  0002CE61FF2C4011     B    Mac 2020-12-08 22:15:35         login     NaN   \n",
       "\n",
       "               reg_dt  \n",
       "0 2020-12-07 04:37:31  \n",
       "1 2020-12-07 04:37:31  \n",
       "2 2020-12-07 04:37:31  \n",
       "3 2020-12-07 04:37:31  \n",
       "4 2020-12-07 04:37:31  "
      ]
     },
     "execution_count": 36,
     "metadata": {},
     "output_type": "execute_result"
    }
   ],
   "source": [
    "# Создадим новую таблицу ab_test_events_filtered, присоединив данные о дате регистрации\n",
    "ab_test_events_filtered = ab_test_events.merge(reg_date, on='user_id')\n",
    "ab_test_events_filtered.head()"
   ]
  },
  {
   "cell_type": "code",
   "execution_count": 37,
   "id": "77a9b390-2622-4dff-9c1d-6227e5400e3f",
   "metadata": {},
   "outputs": [],
   "source": [
    "# Создаем столбец 'days_since_reg' с промежутком времени события после регистрации\n",
    "ab_test_events_filtered['days_since_reg'] = ab_test_events_filtered['event_dt']-ab_test_events_filtered['reg_dt']"
   ]
  },
  {
   "cell_type": "code",
   "execution_count": 38,
   "id": "00fefc13-fd15-4ec9-a3a9-7bd20b0a7fee",
   "metadata": {},
   "outputs": [],
   "source": [
    "# Задаем значение для сравнения (7 дней)\n",
    "target_days = timedelta(days=7)"
   ]
  },
  {
   "cell_type": "code",
   "execution_count": 39,
   "id": "47325e98-4cf4-4aa0-bf78-52b8d7c29a8b",
   "metadata": {},
   "outputs": [
    {
     "data": {
      "text/html": [
       "<div>\n",
       "<style scoped>\n",
       "    .dataframe tbody tr th:only-of-type {\n",
       "        vertical-align: middle;\n",
       "    }\n",
       "\n",
       "    .dataframe tbody tr th {\n",
       "        vertical-align: top;\n",
       "    }\n",
       "\n",
       "    .dataframe thead th {\n",
       "        text-align: right;\n",
       "    }\n",
       "</style>\n",
       "<table border=\"1\" class=\"dataframe\">\n",
       "  <thead>\n",
       "    <tr style=\"text-align: right;\">\n",
       "      <th></th>\n",
       "      <th>user_id</th>\n",
       "      <th>group</th>\n",
       "      <th>device</th>\n",
       "      <th>event_dt</th>\n",
       "      <th>event_name</th>\n",
       "      <th>details</th>\n",
       "      <th>reg_dt</th>\n",
       "      <th>days_since_reg</th>\n",
       "    </tr>\n",
       "  </thead>\n",
       "  <tbody>\n",
       "    <tr>\n",
       "      <th>0</th>\n",
       "      <td>0002CE61FF2C4011</td>\n",
       "      <td>B</td>\n",
       "      <td>Mac</td>\n",
       "      <td>2020-12-07 04:37:31</td>\n",
       "      <td>registration</td>\n",
       "      <td>-2.38</td>\n",
       "      <td>2020-12-07 04:37:31</td>\n",
       "      <td>0 days 00:00:00</td>\n",
       "    </tr>\n",
       "    <tr>\n",
       "      <th>1</th>\n",
       "      <td>0002CE61FF2C4011</td>\n",
       "      <td>B</td>\n",
       "      <td>Mac</td>\n",
       "      <td>2020-12-07 04:37:49</td>\n",
       "      <td>login</td>\n",
       "      <td>NaN</td>\n",
       "      <td>2020-12-07 04:37:31</td>\n",
       "      <td>0 days 00:00:18</td>\n",
       "    </tr>\n",
       "    <tr>\n",
       "      <th>2</th>\n",
       "      <td>0002CE61FF2C4011</td>\n",
       "      <td>B</td>\n",
       "      <td>Mac</td>\n",
       "      <td>2020-12-07 04:37:57</td>\n",
       "      <td>login</td>\n",
       "      <td>NaN</td>\n",
       "      <td>2020-12-07 04:37:31</td>\n",
       "      <td>0 days 00:00:26</td>\n",
       "    </tr>\n",
       "    <tr>\n",
       "      <th>3</th>\n",
       "      <td>0002CE61FF2C4011</td>\n",
       "      <td>B</td>\n",
       "      <td>Mac</td>\n",
       "      <td>2020-12-07 04:38:54</td>\n",
       "      <td>login</td>\n",
       "      <td>NaN</td>\n",
       "      <td>2020-12-07 04:37:31</td>\n",
       "      <td>0 days 00:01:23</td>\n",
       "    </tr>\n",
       "    <tr>\n",
       "      <th>4</th>\n",
       "      <td>0002CE61FF2C4011</td>\n",
       "      <td>B</td>\n",
       "      <td>Mac</td>\n",
       "      <td>2020-12-08 22:15:35</td>\n",
       "      <td>login</td>\n",
       "      <td>NaN</td>\n",
       "      <td>2020-12-07 04:37:31</td>\n",
       "      <td>1 days 17:38:04</td>\n",
       "    </tr>\n",
       "  </tbody>\n",
       "</table>\n",
       "</div>"
      ],
      "text/plain": [
       "            user_id group device            event_dt    event_name details  \\\n",
       "0  0002CE61FF2C4011     B    Mac 2020-12-07 04:37:31  registration   -2.38   \n",
       "1  0002CE61FF2C4011     B    Mac 2020-12-07 04:37:49         login     NaN   \n",
       "2  0002CE61FF2C4011     B    Mac 2020-12-07 04:37:57         login     NaN   \n",
       "3  0002CE61FF2C4011     B    Mac 2020-12-07 04:38:54         login     NaN   \n",
       "4  0002CE61FF2C4011     B    Mac 2020-12-08 22:15:35         login     NaN   \n",
       "\n",
       "               reg_dt  days_since_reg  \n",
       "0 2020-12-07 04:37:31 0 days 00:00:00  \n",
       "1 2020-12-07 04:37:31 0 days 00:00:18  \n",
       "2 2020-12-07 04:37:31 0 days 00:00:26  \n",
       "3 2020-12-07 04:37:31 0 days 00:01:23  \n",
       "4 2020-12-07 04:37:31 1 days 17:38:04  "
      ]
     },
     "execution_count": 39,
     "metadata": {},
     "output_type": "execute_result"
    }
   ],
   "source": [
    "# Фильтруем таблицу по заданному промежутку события в 7 дней после регистрации\n",
    "ab_test_events_filtered = ab_test_events_filtered.loc[ab_test_events_filtered['days_since_reg'] <= target_days]\n",
    "ab_test_events_filtered.head()"
   ]
  },
  {
   "cell_type": "code",
   "execution_count": 40,
   "id": "cc5d6ef6-eefb-4b22-9fce-bd5ef3223e45",
   "metadata": {},
   "outputs": [
    {
     "data": {
      "text/plain": [
       "array(['registration', 'login', 'product_page', 'product_cart',\n",
       "       'purchase'], dtype=object)"
      ]
     },
     "execution_count": 40,
     "metadata": {},
     "output_type": "execute_result"
    }
   ],
   "source": [
    "ab_test_events_filtered['event_name'].unique()"
   ]
  },
  {
   "cell_type": "markdown",
   "id": "7cf1df48",
   "metadata": {},
   "source": [
    "Оцените достаточность выборки для получения статистически значимых результатов A/B-теста. Заданные параметры:\n",
    "\n",
    "- базовый показатель конверсии — 30%,\n",
    "\n",
    "- мощность теста — 80%,\n",
    "\n",
    "- достоверность теста — 95%."
   ]
  },
  {
   "cell_type": "markdown",
   "id": "cc2d02ed-ac09-450a-9889-906d4af5b63f",
   "metadata": {},
   "source": [
    "Используя калькулятор Эвана Миллера (https://www.evanmiller.org/ab-testing/sample-size.html), опеределим необходимый размер выборки для каждой из групп.\n",
    "\n",
    "Вводимые показатели:\n",
    "- базовый показатель конверсии — 30%\n",
    "- Минимальный детектируемый эффект — 3% по ТЗ\n",
    "- мощность теста — 80%\n",
    "- достоверность теста — 95%\n",
    "\n",
    "Итоговое значение выборки одной группы должно быть не меньше 3 692. Это условие выполняется — в пункте 3.1 было установлено, что размер выборок для группы A 4952 человек, для группы B 5011.\n"
   ]
  },
  {
   "cell_type": "markdown",
   "id": "SadyUDgZs0t3",
   "metadata": {
    "id": "SadyUDgZs0t3"
   },
   "source": [
    "- рассчитайте для каждой группы количество посетителей, сделавших покупку, и общее количество посетителей."
   ]
  },
  {
   "cell_type": "code",
   "execution_count": 41,
   "id": "7ph853Xks4sy",
   "metadata": {
    "id": "7ph853Xks4sy"
   },
   "outputs": [
    {
     "name": "stdout",
     "output_type": "stream",
     "text": [
      "Для контрольной группы A общее число пользователей составляет 4952, число пользователей, совершивших покупку, 1377, конверсия равна 27.8%.\n",
      "Для тестовой группы B общее число пользователей составляет 5011, число пользователей, совершивших покупку, 1480, конверсия равна 29.5%.\n"
     ]
    }
   ],
   "source": [
    "n_a = ab_test_events_filtered['user_id'].loc[ab_test_events_filtered['group']=='A'].nunique()\n",
    "n_b = ab_test_events_filtered['user_id'].loc[ab_test_events_filtered['group']=='B'].nunique()\n",
    "m_a = ab_test_events_filtered['user_id'].loc[(ab_test_events_filtered['group']=='A')&(ab_test_events_filtered['event_name']=='purchase')].nunique()\n",
    "m_b = ab_test_events_filtered['user_id'].loc[(ab_test_events_filtered['group']=='B')&(ab_test_events_filtered['event_name']=='purchase')].nunique()\n",
    "\n",
    "print(f'Для контрольной группы A общее число пользователей составляет {n_a}, число пользователей, совершивших покупку, {m_a}, конверсия равна {round(m_a/n_a*100,1)}%.')\n",
    "print(f'Для тестовой группы B общее число пользователей составляет {n_b}, число пользователей, совершивших покупку, {m_b}, конверсия равна {round(m_b/n_b*100,1)}%.')"
   ]
  },
  {
   "cell_type": "code",
   "execution_count": 42,
   "id": "ed4466d9",
   "metadata": {},
   "outputs": [
    {
     "name": "stdout",
     "output_type": "stream",
     "text": [
      "Конверсия в тестовой группе В выросла относительно конверсии контрольной группы А на 1.7 процентных пункта или на 6.2%\n"
     ]
    }
   ],
   "source": [
    "conv_change_abs = round((m_b/n_b - m_a/n_a)*100,1)\n",
    "conv_change_perc = round((m_b/n_b)/(m_a/n_a)*100-100,1)\n",
    "\n",
    "print(f'Конверсия в тестовой группе В выросла относительно конверсии контрольной группы А на {conv_change_abs} процентных пункта или на {conv_change_perc}%')"
   ]
  },
  {
   "cell_type": "markdown",
   "id": "sh1JpGvAs5E3",
   "metadata": {
    "id": "sh1JpGvAs5E3"
   },
   "source": [
    "- сделайте предварительный общий вывод об изменении пользовательской активности в тестовой группе по сравнению с контрольной."
   ]
  },
  {
   "cell_type": "markdown",
   "id": "4ebf6ca8-72d7-42aa-b3e4-1180a74050b5",
   "metadata": {
    "id": "hHTHPkJYs8mE"
   },
   "source": [
    "Предварительно, можно отметить, что конверсия в тестовой группе выше, чем в контрольной на 1,7 процентных пункта. То есть изменение есть и оно заметно. Попробуем оценить его значимость с помощью `Z-теста пропорций`, который позволяет определить, существует ли разницы в долях для независимых групп."
   ]
  },
  {
   "cell_type": "markdown",
   "id": "IKZ1Oo3Ws919",
   "metadata": {
    "id": "IKZ1Oo3Ws919"
   },
   "source": [
    "## 4. Оценка результатов A/B-тестирования"
   ]
  },
  {
   "cell_type": "markdown",
   "id": "50f4ee28-45ac-48e7-be7b-d2d353f336df",
   "metadata": {},
   "source": [
    "Сформулируем гипотезу:\n",
    "\n",
    "$H_0$ - вероятности успеха (в данном случае совершения покупки пользователем в течение 7-ми дней после регистрации) для групп А и В равны или вероятность успеха для группы В меньше, чем для группы А  \n",
    "$H_1$ - вероятность успеха для группы В больше, чем для группы А"
   ]
  },
  {
   "cell_type": "code",
   "execution_count": 43,
   "id": "l_KOziBQtL3t",
   "metadata": {
    "id": "l_KOziBQtL3t"
   },
   "outputs": [
    {
     "name": "stdout",
     "output_type": "stream",
     "text": [
      "pvalue=0.028262547212292124 < 0.05\n",
      "Нулевая гипотеза не находит подтверждения!\n"
     ]
    }
   ],
   "source": [
    "alpha = 0.05 ## на каком уровне значимости проверяем гипотезу о равенстве вероятностей\n",
    "\n",
    "stat_ztest, p_value_ztest = proportions_ztest(\n",
    "    [m_b, m_a],\n",
    "    [n_b, n_a],\n",
    "    alternative='larger'\n",
    ")\n",
    "\n",
    "if p_value_ztest > alpha:\n",
    "    print(f'pvalue={p_value_ztest} > {alpha}')\n",
    "    print('Нулевая гипотеза находит подтверждение!')\n",
    "else:\n",
    "    print(f'pvalue={p_value_ztest} < {alpha}')\n",
    "    print('Нулевая гипотеза не находит подтверждения!')"
   ]
  },
  {
   "cell_type": "markdown",
   "id": "9jkyKOjgtGoc",
   "metadata": {
    "id": "9jkyKOjgtGoc"
   },
   "source": [
    "- Опишите выводы по проведённой оценке результатов A/B-тестирования. Что можно сказать про результаты A/B-тестирования? Был ли достигнут ожидаемый эффект в изменении конверсии?"
   ]
  },
  {
   "cell_type": "markdown",
   "id": "aac358b7-d964-4b9a-a766-13f9ffcc3d48",
   "metadata": {},
   "source": [
    "**Результат теста:**\n",
    "\n",
    "p-value = `0.028` (что меньше уровня значимости α = `0.05`).\n",
    "Это означает, что разница в конверсиях между группами статистически значима на уровне 5%.\n",
    "\n",
    "**Сравнение конверсий:**\n",
    "\n",
    "Конверсия в группе A (контрольная): 27.8%\n",
    "\n",
    "Конверсия в группе B (тестовая): 29.5%\n",
    "\n",
    "Разница: 1.7 процентных пункта (29.5% - 27.8%).\n",
    "\n",
    "**Проверка гипотезы:**\n",
    "\n",
    "Гипотеза предполагала, что упрощение интерфейса увеличит конверсию как минимум на `3 процентных пункта`.\n",
    "\n",
    "Фактическая разница (`1.7 п.п.`) меньше ожидаемого эффекта (`3 п.п.`).\n",
    "\n",
    "**Заключение:**\n",
    "\n",
    "Хотя разница статистически значима (p-value < 0.05), она не достигает заявленного минимального эффекта в 3 процентных пункта.\n",
    "Упрощение интерфейса не привело к росту конверсии на ожидаемые +3%.\n",
    "\n",
    "**Рекомендации:**\n",
    "- Можно считать, что изменение интерфейса оказало положительное влияние (разница есть, но меньше ожидаемой).\n",
    "- Стоит проанализировать, почему эффект оказался ниже прогнозируемого (возможно, нужны дополнительные доработки или тестирование других изменений).\n",
    "- Если бизнес-целью было именно +3%, то текущий результат недостаточен для принятия решения о внедрении."
   ]
  }
 ],
 "metadata": {
  "ExecuteTimeLog": [
   {
    "duration": 1042,
    "start_time": "2025-05-24T09:41:48.908Z"
   },
   {
    "duration": 52,
    "start_time": "2025-05-24T09:41:49.951Z"
   },
   {
    "duration": 41,
    "start_time": "2025-05-24T09:41:50.005Z"
   },
   {
    "duration": 44,
    "start_time": "2025-05-24T09:41:50.047Z"
   },
   {
    "duration": 10,
    "start_time": "2025-05-24T09:41:50.093Z"
   },
   {
    "duration": 75,
    "start_time": "2025-05-24T09:41:50.105Z"
   },
   {
    "duration": 0,
    "start_time": "2025-05-24T09:41:50.182Z"
   },
   {
    "duration": 0,
    "start_time": "2025-05-24T09:41:50.184Z"
   },
   {
    "duration": 0,
    "start_time": "2025-05-24T09:41:50.185Z"
   },
   {
    "duration": 0,
    "start_time": "2025-05-24T09:41:50.186Z"
   },
   {
    "duration": 0,
    "start_time": "2025-05-24T09:41:50.187Z"
   },
   {
    "duration": 0,
    "start_time": "2025-05-24T09:41:50.188Z"
   },
   {
    "duration": 0,
    "start_time": "2025-05-24T09:41:50.189Z"
   },
   {
    "duration": 0,
    "start_time": "2025-05-24T09:41:50.190Z"
   },
   {
    "duration": 0,
    "start_time": "2025-05-24T09:41:50.191Z"
   },
   {
    "duration": 0,
    "start_time": "2025-05-24T09:41:50.192Z"
   },
   {
    "duration": 0,
    "start_time": "2025-05-24T09:41:50.193Z"
   },
   {
    "duration": 0,
    "start_time": "2025-05-24T09:41:50.194Z"
   },
   {
    "duration": 0,
    "start_time": "2025-05-24T09:41:50.194Z"
   },
   {
    "duration": 0,
    "start_time": "2025-05-24T09:41:50.196Z"
   },
   {
    "duration": 0,
    "start_time": "2025-05-24T09:41:50.197Z"
   },
   {
    "duration": 0,
    "start_time": "2025-05-24T09:41:50.198Z"
   },
   {
    "duration": 0,
    "start_time": "2025-05-24T09:41:50.199Z"
   },
   {
    "duration": 0,
    "start_time": "2025-05-24T09:41:50.200Z"
   },
   {
    "duration": 0,
    "start_time": "2025-05-24T09:41:50.201Z"
   },
   {
    "duration": 0,
    "start_time": "2025-05-24T09:41:50.202Z"
   },
   {
    "duration": 0,
    "start_time": "2025-05-24T09:41:50.203Z"
   },
   {
    "duration": 0,
    "start_time": "2025-05-24T09:41:50.204Z"
   },
   {
    "duration": 1,
    "start_time": "2025-05-24T09:41:50.205Z"
   },
   {
    "duration": 0,
    "start_time": "2025-05-24T09:41:50.206Z"
   },
   {
    "duration": 0,
    "start_time": "2025-05-24T09:41:50.207Z"
   },
   {
    "duration": 0,
    "start_time": "2025-05-24T09:41:50.208Z"
   },
   {
    "duration": 0,
    "start_time": "2025-05-24T09:41:50.209Z"
   },
   {
    "duration": 0,
    "start_time": "2025-05-24T09:41:50.211Z"
   },
   {
    "duration": 0,
    "start_time": "2025-05-24T09:41:50.211Z"
   },
   {
    "duration": 0,
    "start_time": "2025-05-24T09:41:50.213Z"
   },
   {
    "duration": 0,
    "start_time": "2025-05-24T09:41:50.214Z"
   },
   {
    "duration": 0,
    "start_time": "2025-05-24T09:41:50.215Z"
   },
   {
    "duration": 0,
    "start_time": "2025-05-24T09:41:50.216Z"
   },
   {
    "duration": 0,
    "start_time": "2025-05-24T09:41:50.217Z"
   },
   {
    "duration": 0,
    "start_time": "2025-05-24T09:41:50.262Z"
   },
   {
    "duration": 12,
    "start_time": "2025-05-24T09:42:16.557Z"
   },
   {
    "duration": 8,
    "start_time": "2025-05-24T09:42:21.570Z"
   },
   {
    "duration": 11,
    "start_time": "2025-05-24T09:42:21.722Z"
   },
   {
    "duration": 7,
    "start_time": "2025-05-24T09:42:22.021Z"
   },
   {
    "duration": 4,
    "start_time": "2025-05-24T09:42:22.168Z"
   },
   {
    "duration": 4,
    "start_time": "2025-05-24T09:42:22.308Z"
   },
   {
    "duration": 14,
    "start_time": "2025-05-24T09:42:22.446Z"
   },
   {
    "duration": 8,
    "start_time": "2025-05-24T09:42:22.890Z"
   },
   {
    "duration": 236,
    "start_time": "2025-05-24T09:42:23.039Z"
   },
   {
    "duration": 6,
    "start_time": "2025-05-24T09:42:23.346Z"
   },
   {
    "duration": 16,
    "start_time": "2025-05-24T09:42:23.496Z"
   },
   {
    "duration": 333,
    "start_time": "2025-05-24T09:42:23.940Z"
   },
   {
    "duration": 8,
    "start_time": "2025-05-24T09:42:24.546Z"
   },
   {
    "duration": 1842,
    "start_time": "2025-05-24T09:42:26.002Z"
   },
   {
    "duration": 15,
    "start_time": "2025-05-24T09:42:27.846Z"
   },
   {
    "duration": 33,
    "start_time": "2025-05-24T09:42:27.863Z"
   },
   {
    "duration": 7,
    "start_time": "2025-05-24T09:42:27.898Z"
   },
   {
    "duration": 26,
    "start_time": "2025-05-24T09:42:27.906Z"
   },
   {
    "duration": 12,
    "start_time": "2025-05-24T09:42:27.933Z"
   },
   {
    "duration": 18,
    "start_time": "2025-05-24T09:42:27.946Z"
   },
   {
    "duration": 20,
    "start_time": "2025-05-24T09:42:27.965Z"
   },
   {
    "duration": 9,
    "start_time": "2025-05-24T09:42:28.368Z"
   },
   {
    "duration": 112,
    "start_time": "2025-05-24T09:42:28.555Z"
   },
   {
    "duration": 309,
    "start_time": "2025-05-24T09:42:28.830Z"
   },
   {
    "duration": 356,
    "start_time": "2025-05-24T09:42:29.140Z"
   },
   {
    "duration": 205,
    "start_time": "2025-05-24T09:42:29.498Z"
   },
   {
    "duration": 23,
    "start_time": "2025-05-24T09:42:29.705Z"
   },
   {
    "duration": 13,
    "start_time": "2025-05-24T09:42:29.902Z"
   },
   {
    "duration": 28,
    "start_time": "2025-05-24T09:42:30.033Z"
   },
   {
    "duration": 5,
    "start_time": "2025-05-24T09:42:30.135Z"
   },
   {
    "duration": 2,
    "start_time": "2025-05-24T09:42:30.260Z"
   },
   {
    "duration": 19,
    "start_time": "2025-05-24T09:42:30.391Z"
   },
   {
    "duration": 7,
    "start_time": "2025-05-24T09:42:30.663Z"
   },
   {
    "duration": 34,
    "start_time": "2025-05-24T09:42:31.236Z"
   },
   {
    "duration": 5,
    "start_time": "2025-05-24T09:42:32.033Z"
   },
   {
    "duration": 1348,
    "start_time": "2025-05-24T14:33:59.104Z"
   },
   {
    "duration": 125,
    "start_time": "2025-05-24T14:34:00.454Z"
   },
   {
    "duration": 14,
    "start_time": "2025-05-24T14:34:00.581Z"
   },
   {
    "duration": 12,
    "start_time": "2025-05-24T14:34:00.597Z"
   },
   {
    "duration": 14,
    "start_time": "2025-05-24T14:34:00.611Z"
   },
   {
    "duration": 89,
    "start_time": "2025-05-24T14:34:00.628Z"
   },
   {
    "duration": 0,
    "start_time": "2025-05-24T14:34:00.720Z"
   },
   {
    "duration": 0,
    "start_time": "2025-05-24T14:34:00.721Z"
   },
   {
    "duration": 0,
    "start_time": "2025-05-24T14:34:00.722Z"
   },
   {
    "duration": 0,
    "start_time": "2025-05-24T14:34:00.723Z"
   },
   {
    "duration": 0,
    "start_time": "2025-05-24T14:34:00.724Z"
   },
   {
    "duration": 0,
    "start_time": "2025-05-24T14:34:00.725Z"
   },
   {
    "duration": 0,
    "start_time": "2025-05-24T14:34:00.727Z"
   },
   {
    "duration": 0,
    "start_time": "2025-05-24T14:34:00.728Z"
   },
   {
    "duration": 0,
    "start_time": "2025-05-24T14:34:00.729Z"
   },
   {
    "duration": 0,
    "start_time": "2025-05-24T14:34:00.730Z"
   },
   {
    "duration": 0,
    "start_time": "2025-05-24T14:34:00.731Z"
   },
   {
    "duration": 0,
    "start_time": "2025-05-24T14:34:00.733Z"
   },
   {
    "duration": 0,
    "start_time": "2025-05-24T14:34:00.734Z"
   },
   {
    "duration": 0,
    "start_time": "2025-05-24T14:34:00.735Z"
   },
   {
    "duration": 0,
    "start_time": "2025-05-24T14:34:00.736Z"
   },
   {
    "duration": 0,
    "start_time": "2025-05-24T14:34:00.737Z"
   },
   {
    "duration": 0,
    "start_time": "2025-05-24T14:34:00.738Z"
   },
   {
    "duration": 0,
    "start_time": "2025-05-24T14:34:00.739Z"
   },
   {
    "duration": 0,
    "start_time": "2025-05-24T14:34:00.740Z"
   },
   {
    "duration": 0,
    "start_time": "2025-05-24T14:34:00.741Z"
   },
   {
    "duration": 0,
    "start_time": "2025-05-24T14:34:00.742Z"
   },
   {
    "duration": 0,
    "start_time": "2025-05-24T14:34:00.743Z"
   },
   {
    "duration": 0,
    "start_time": "2025-05-24T14:34:00.744Z"
   },
   {
    "duration": 0,
    "start_time": "2025-05-24T14:34:00.745Z"
   },
   {
    "duration": 0,
    "start_time": "2025-05-24T14:34:00.747Z"
   },
   {
    "duration": 0,
    "start_time": "2025-05-24T14:34:00.747Z"
   },
   {
    "duration": 0,
    "start_time": "2025-05-24T14:34:00.749Z"
   },
   {
    "duration": 0,
    "start_time": "2025-05-24T14:34:00.750Z"
   },
   {
    "duration": 0,
    "start_time": "2025-05-24T14:34:00.751Z"
   },
   {
    "duration": 0,
    "start_time": "2025-05-24T14:34:00.752Z"
   },
   {
    "duration": 0,
    "start_time": "2025-05-24T14:34:00.753Z"
   },
   {
    "duration": 0,
    "start_time": "2025-05-24T14:34:00.754Z"
   },
   {
    "duration": 0,
    "start_time": "2025-05-24T14:34:00.770Z"
   },
   {
    "duration": 0,
    "start_time": "2025-05-24T14:34:00.772Z"
   },
   {
    "duration": 0,
    "start_time": "2025-05-24T14:34:00.773Z"
   },
   {
    "duration": 90,
    "start_time": "2025-05-24T14:36:26.283Z"
   },
   {
    "duration": 96,
    "start_time": "2025-05-24T14:36:49.628Z"
   },
   {
    "duration": 7,
    "start_time": "2025-05-24T14:38:11.388Z"
   },
   {
    "duration": 7,
    "start_time": "2025-05-24T14:38:34.421Z"
   },
   {
    "duration": 5,
    "start_time": "2025-05-24T14:40:50.237Z"
   },
   {
    "duration": 11,
    "start_time": "2025-05-24T14:50:46.185Z"
   },
   {
    "duration": 101,
    "start_time": "2025-05-24T14:54:58.460Z"
   },
   {
    "duration": 1170,
    "start_time": "2025-05-24T14:55:17.502Z"
   },
   {
    "duration": 85,
    "start_time": "2025-05-24T14:55:18.674Z"
   },
   {
    "duration": 13,
    "start_time": "2025-05-24T14:55:18.761Z"
   },
   {
    "duration": 17,
    "start_time": "2025-05-24T14:55:18.775Z"
   },
   {
    "duration": 4,
    "start_time": "2025-05-24T14:55:18.795Z"
   },
   {
    "duration": 7,
    "start_time": "2025-05-24T14:55:18.800Z"
   },
   {
    "duration": 4,
    "start_time": "2025-05-24T14:55:18.809Z"
   },
   {
    "duration": 13,
    "start_time": "2025-05-24T14:55:18.815Z"
   },
   {
    "duration": 43,
    "start_time": "2025-05-24T14:55:18.829Z"
   },
   {
    "duration": 13,
    "start_time": "2025-05-24T14:55:18.873Z"
   },
   {
    "duration": 7,
    "start_time": "2025-05-24T14:55:18.887Z"
   },
   {
    "duration": 5,
    "start_time": "2025-05-24T14:55:18.896Z"
   },
   {
    "duration": 10,
    "start_time": "2025-05-24T14:55:18.902Z"
   },
   {
    "duration": 21,
    "start_time": "2025-05-24T14:55:18.915Z"
   },
   {
    "duration": 34,
    "start_time": "2025-05-24T14:55:18.938Z"
   },
   {
    "duration": 17,
    "start_time": "2025-05-24T14:55:18.974Z"
   },
   {
    "duration": 5,
    "start_time": "2025-05-24T14:55:18.992Z"
   },
   {
    "duration": 15,
    "start_time": "2025-05-24T14:55:18.999Z"
   },
   {
    "duration": 389,
    "start_time": "2025-05-24T14:55:19.016Z"
   },
   {
    "duration": 9,
    "start_time": "2025-05-24T14:55:19.406Z"
   },
   {
    "duration": 1639,
    "start_time": "2025-05-24T14:55:19.417Z"
   },
   {
    "duration": 14,
    "start_time": "2025-05-24T14:55:21.058Z"
   },
   {
    "duration": 24,
    "start_time": "2025-05-24T14:55:21.074Z"
   },
   {
    "duration": 8,
    "start_time": "2025-05-24T14:55:21.100Z"
   },
   {
    "duration": 7,
    "start_time": "2025-05-24T14:55:21.109Z"
   },
   {
    "duration": 19,
    "start_time": "2025-05-24T14:55:21.118Z"
   },
   {
    "duration": 13,
    "start_time": "2025-05-24T14:55:21.139Z"
   },
   {
    "duration": 7,
    "start_time": "2025-05-24T14:55:21.154Z"
   },
   {
    "duration": 9,
    "start_time": "2025-05-24T14:55:21.172Z"
   },
   {
    "duration": 133,
    "start_time": "2025-05-24T14:55:21.182Z"
   },
   {
    "duration": 320,
    "start_time": "2025-05-24T14:55:21.316Z"
   },
   {
    "duration": 360,
    "start_time": "2025-05-24T14:55:21.638Z"
   },
   {
    "duration": 224,
    "start_time": "2025-05-24T14:55:22.000Z"
   },
   {
    "duration": 51,
    "start_time": "2025-05-24T14:55:22.226Z"
   },
   {
    "duration": 14,
    "start_time": "2025-05-24T14:55:22.278Z"
   },
   {
    "duration": 31,
    "start_time": "2025-05-24T14:55:22.294Z"
   },
   {
    "duration": 4,
    "start_time": "2025-05-24T14:55:22.327Z"
   },
   {
    "duration": 7,
    "start_time": "2025-05-24T14:55:22.333Z"
   },
   {
    "duration": 45,
    "start_time": "2025-05-24T14:55:22.342Z"
   },
   {
    "duration": 7,
    "start_time": "2025-05-24T14:55:22.389Z"
   },
   {
    "duration": 38,
    "start_time": "2025-05-24T14:55:22.400Z"
   },
   {
    "duration": 5,
    "start_time": "2025-05-24T14:55:22.439Z"
   },
   {
    "duration": 3,
    "start_time": "2025-05-24T14:59:16.949Z"
   },
   {
    "duration": 4,
    "start_time": "2025-05-24T14:59:33.933Z"
   },
   {
    "duration": 4,
    "start_time": "2025-05-24T14:59:40.717Z"
   },
   {
    "duration": 1186,
    "start_time": "2025-05-24T15:00:03.513Z"
   },
   {
    "duration": 71,
    "start_time": "2025-05-24T15:00:04.701Z"
   },
   {
    "duration": 13,
    "start_time": "2025-05-24T15:00:04.773Z"
   },
   {
    "duration": 19,
    "start_time": "2025-05-24T15:00:04.788Z"
   },
   {
    "duration": 4,
    "start_time": "2025-05-24T15:00:04.810Z"
   },
   {
    "duration": 19,
    "start_time": "2025-05-24T15:00:04.815Z"
   },
   {
    "duration": 25,
    "start_time": "2025-05-24T15:00:04.836Z"
   },
   {
    "duration": 33,
    "start_time": "2025-05-24T15:00:04.863Z"
   },
   {
    "duration": 15,
    "start_time": "2025-05-24T15:00:04.898Z"
   },
   {
    "duration": 34,
    "start_time": "2025-05-24T15:00:04.915Z"
   },
   {
    "duration": 32,
    "start_time": "2025-05-24T15:00:04.951Z"
   },
   {
    "duration": 14,
    "start_time": "2025-05-24T15:00:04.984Z"
   },
   {
    "duration": 7,
    "start_time": "2025-05-24T15:00:04.999Z"
   },
   {
    "duration": 35,
    "start_time": "2025-05-24T15:00:05.010Z"
   },
   {
    "duration": 42,
    "start_time": "2025-05-24T15:00:05.047Z"
   },
   {
    "duration": 16,
    "start_time": "2025-05-24T15:00:05.091Z"
   },
   {
    "duration": 5,
    "start_time": "2025-05-24T15:00:05.109Z"
   },
   {
    "duration": 31,
    "start_time": "2025-05-24T15:00:05.116Z"
   },
   {
    "duration": 364,
    "start_time": "2025-05-24T15:00:05.149Z"
   },
   {
    "duration": 8,
    "start_time": "2025-05-24T15:00:05.515Z"
   },
   {
    "duration": 1618,
    "start_time": "2025-05-24T15:00:05.524Z"
   },
   {
    "duration": 9,
    "start_time": "2025-05-24T15:00:07.144Z"
   },
   {
    "duration": 18,
    "start_time": "2025-05-24T15:00:07.154Z"
   },
   {
    "duration": 21,
    "start_time": "2025-05-24T15:00:07.173Z"
   },
   {
    "duration": 15,
    "start_time": "2025-05-24T15:00:07.196Z"
   },
   {
    "duration": 9,
    "start_time": "2025-05-24T15:00:07.213Z"
   },
   {
    "duration": 15,
    "start_time": "2025-05-24T15:00:07.224Z"
   },
   {
    "duration": 7,
    "start_time": "2025-05-24T15:00:07.242Z"
   },
   {
    "duration": 28,
    "start_time": "2025-05-24T15:00:07.251Z"
   },
   {
    "duration": 134,
    "start_time": "2025-05-24T15:00:07.281Z"
   },
   {
    "duration": 366,
    "start_time": "2025-05-24T15:00:07.418Z"
   },
   {
    "duration": 397,
    "start_time": "2025-05-24T15:00:07.786Z"
   },
   {
    "duration": 243,
    "start_time": "2025-05-24T15:00:08.185Z"
   },
   {
    "duration": 25,
    "start_time": "2025-05-24T15:00:08.430Z"
   },
   {
    "duration": 15,
    "start_time": "2025-05-24T15:00:08.471Z"
   },
   {
    "duration": 32,
    "start_time": "2025-05-24T15:00:08.488Z"
   },
   {
    "duration": 6,
    "start_time": "2025-05-24T15:00:08.522Z"
   },
   {
    "duration": 2,
    "start_time": "2025-05-24T15:00:08.530Z"
   },
   {
    "duration": 53,
    "start_time": "2025-05-24T15:00:08.534Z"
   },
   {
    "duration": 8,
    "start_time": "2025-05-24T15:00:08.589Z"
   },
   {
    "duration": 40,
    "start_time": "2025-05-24T15:00:08.602Z"
   },
   {
    "duration": 24,
    "start_time": "2025-05-24T15:00:08.648Z"
   },
   {
    "duration": 24,
    "start_time": "2025-05-24T15:00:08.674Z"
   },
   {
    "duration": 1225,
    "start_time": "2025-05-24T15:03:17.446Z"
   },
   {
    "duration": 69,
    "start_time": "2025-05-24T15:03:18.673Z"
   },
   {
    "duration": 13,
    "start_time": "2025-05-24T15:03:18.744Z"
   },
   {
    "duration": 13,
    "start_time": "2025-05-24T15:03:18.760Z"
   },
   {
    "duration": 6,
    "start_time": "2025-05-24T15:03:18.775Z"
   },
   {
    "duration": 6,
    "start_time": "2025-05-24T15:03:18.783Z"
   },
   {
    "duration": 10,
    "start_time": "2025-05-24T15:03:18.791Z"
   },
   {
    "duration": 12,
    "start_time": "2025-05-24T15:03:18.803Z"
   },
   {
    "duration": 12,
    "start_time": "2025-05-24T15:03:18.817Z"
   },
   {
    "duration": 13,
    "start_time": "2025-05-24T15:03:18.873Z"
   },
   {
    "duration": 7,
    "start_time": "2025-05-24T15:03:18.888Z"
   },
   {
    "duration": 5,
    "start_time": "2025-05-24T15:03:18.897Z"
   },
   {
    "duration": 5,
    "start_time": "2025-05-24T15:03:18.903Z"
   },
   {
    "duration": 12,
    "start_time": "2025-05-24T15:03:18.909Z"
   },
   {
    "duration": 10,
    "start_time": "2025-05-24T15:03:18.972Z"
   },
   {
    "duration": 22,
    "start_time": "2025-05-24T15:03:18.983Z"
   },
   {
    "duration": 6,
    "start_time": "2025-05-24T15:03:19.006Z"
   },
   {
    "duration": 17,
    "start_time": "2025-05-24T15:03:19.013Z"
   },
   {
    "duration": 397,
    "start_time": "2025-05-24T15:03:19.031Z"
   },
   {
    "duration": 8,
    "start_time": "2025-05-24T15:03:19.430Z"
   },
   {
    "duration": 1521,
    "start_time": "2025-05-24T15:03:19.440Z"
   },
   {
    "duration": 13,
    "start_time": "2025-05-24T15:03:20.963Z"
   },
   {
    "duration": 7,
    "start_time": "2025-05-24T15:03:20.978Z"
   },
   {
    "duration": 8,
    "start_time": "2025-05-24T15:03:20.986Z"
   },
   {
    "duration": 6,
    "start_time": "2025-05-24T15:03:20.996Z"
   },
   {
    "duration": 8,
    "start_time": "2025-05-24T15:03:21.004Z"
   },
   {
    "duration": 62,
    "start_time": "2025-05-24T15:03:21.014Z"
   },
   {
    "duration": 8,
    "start_time": "2025-05-24T15:03:21.080Z"
   },
   {
    "duration": 25,
    "start_time": "2025-05-24T15:03:21.089Z"
   },
   {
    "duration": 126,
    "start_time": "2025-05-24T15:03:21.116Z"
   },
   {
    "duration": 390,
    "start_time": "2025-05-24T15:03:21.244Z"
   },
   {
    "duration": 388,
    "start_time": "2025-05-24T15:03:21.636Z"
   },
   {
    "duration": 253,
    "start_time": "2025-05-24T15:03:22.026Z"
   },
   {
    "duration": 25,
    "start_time": "2025-05-24T15:03:22.281Z"
   },
   {
    "duration": 15,
    "start_time": "2025-05-24T15:03:22.308Z"
   },
   {
    "duration": 60,
    "start_time": "2025-05-24T15:03:22.325Z"
   },
   {
    "duration": 5,
    "start_time": "2025-05-24T15:03:22.387Z"
   },
   {
    "duration": 3,
    "start_time": "2025-05-24T15:03:22.393Z"
   },
   {
    "duration": 23,
    "start_time": "2025-05-24T15:03:22.397Z"
   },
   {
    "duration": 8,
    "start_time": "2025-05-24T15:03:22.421Z"
   },
   {
    "duration": 67,
    "start_time": "2025-05-24T15:03:22.431Z"
   },
   {
    "duration": 4,
    "start_time": "2025-05-24T15:03:22.500Z"
   },
   {
    "duration": 7,
    "start_time": "2025-05-24T15:03:22.506Z"
   },
   {
    "duration": 1084,
    "start_time": "2025-05-25T11:05:03.049Z"
   },
   {
    "duration": 53,
    "start_time": "2025-05-25T11:05:04.137Z"
   },
   {
    "duration": 41,
    "start_time": "2025-05-25T11:05:04.191Z"
   },
   {
    "duration": 83,
    "start_time": "2025-05-25T11:05:04.234Z"
   },
   {
    "duration": 4,
    "start_time": "2025-05-25T11:05:04.318Z"
   },
   {
    "duration": 13,
    "start_time": "2025-05-25T11:05:04.324Z"
   },
   {
    "duration": 5,
    "start_time": "2025-05-25T11:05:04.338Z"
   },
   {
    "duration": 15,
    "start_time": "2025-05-25T11:05:04.345Z"
   },
   {
    "duration": 9,
    "start_time": "2025-05-25T11:05:04.361Z"
   },
   {
    "duration": 53,
    "start_time": "2025-05-25T11:05:04.373Z"
   },
   {
    "duration": 10,
    "start_time": "2025-05-25T11:05:04.428Z"
   },
   {
    "duration": 11,
    "start_time": "2025-05-25T11:05:04.441Z"
   },
   {
    "duration": 13,
    "start_time": "2025-05-25T11:05:04.453Z"
   },
   {
    "duration": 43,
    "start_time": "2025-05-25T11:05:04.468Z"
   },
   {
    "duration": 8,
    "start_time": "2025-05-25T11:05:04.513Z"
   },
   {
    "duration": 18,
    "start_time": "2025-05-25T11:05:04.522Z"
   },
   {
    "duration": 5,
    "start_time": "2025-05-25T11:05:04.541Z"
   },
   {
    "duration": 16,
    "start_time": "2025-05-25T11:05:04.548Z"
   },
   {
    "duration": 365,
    "start_time": "2025-05-25T11:05:04.565Z"
   },
   {
    "duration": 8,
    "start_time": "2025-05-25T11:05:04.932Z"
   },
   {
    "duration": 1635,
    "start_time": "2025-05-25T11:05:04.942Z"
   },
   {
    "duration": 9,
    "start_time": "2025-05-25T11:05:06.579Z"
   },
   {
    "duration": 23,
    "start_time": "2025-05-25T11:05:06.589Z"
   },
   {
    "duration": 23,
    "start_time": "2025-05-25T11:05:06.614Z"
   },
   {
    "duration": 10,
    "start_time": "2025-05-25T11:05:06.639Z"
   },
   {
    "duration": 12,
    "start_time": "2025-05-25T11:05:06.650Z"
   },
   {
    "duration": 22,
    "start_time": "2025-05-25T11:05:06.664Z"
   },
   {
    "duration": 44,
    "start_time": "2025-05-25T11:05:06.689Z"
   },
   {
    "duration": 27,
    "start_time": "2025-05-25T11:05:06.735Z"
   },
   {
    "duration": 161,
    "start_time": "2025-05-25T11:05:06.764Z"
   },
   {
    "duration": 300,
    "start_time": "2025-05-25T11:05:06.927Z"
   },
   {
    "duration": 336,
    "start_time": "2025-05-25T11:05:07.237Z"
   },
   {
    "duration": 205,
    "start_time": "2025-05-25T11:05:07.574Z"
   },
   {
    "duration": 24,
    "start_time": "2025-05-25T11:05:07.780Z"
   },
   {
    "duration": 32,
    "start_time": "2025-05-25T11:05:07.805Z"
   },
   {
    "duration": 30,
    "start_time": "2025-05-25T11:05:07.839Z"
   },
   {
    "duration": 138,
    "start_time": "2025-05-25T11:05:07.871Z"
   },
   {
    "duration": 6,
    "start_time": "2025-05-25T11:05:08.011Z"
   },
   {
    "duration": 44,
    "start_time": "2025-05-25T11:05:08.019Z"
   },
   {
    "duration": 7,
    "start_time": "2025-05-25T11:05:08.064Z"
   },
   {
    "duration": 36,
    "start_time": "2025-05-25T11:05:08.073Z"
   },
   {
    "duration": 4,
    "start_time": "2025-05-25T11:05:08.111Z"
   },
   {
    "duration": 20,
    "start_time": "2025-05-25T11:05:08.117Z"
   }
  ],
  "colab": {
   "provenance": [],
   "toc_visible": true
  },
  "kernelspec": {
   "display_name": "Python [conda env:base] *",
   "language": "python",
   "name": "conda-base-py"
  },
  "language_info": {
   "codemirror_mode": {
    "name": "ipython",
    "version": 3
   },
   "file_extension": ".py",
   "mimetype": "text/x-python",
   "name": "python",
   "nbconvert_exporter": "python",
   "pygments_lexer": "ipython3",
   "version": "3.12.7"
  },
  "toc": {
   "base_numbering": 1,
   "nav_menu": {},
   "number_sections": true,
   "sideBar": true,
   "skip_h1_title": true,
   "title_cell": "Table of Contents",
   "title_sidebar": "Contents",
   "toc_cell": false,
   "toc_position": {},
   "toc_section_display": true,
   "toc_window_display": true
  }
 },
 "nbformat": 4,
 "nbformat_minor": 5
}
